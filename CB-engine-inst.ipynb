{
 "cells": [
  {
   "cell_type": "markdown",
   "metadata": {},
   "source": [
    "# **The Recommendation Engine Code Instruction**"
   ]
  },
  {
   "cell_type": "markdown",
   "metadata": {},
   "source": [
    "## **Run the Engine**\n",
    "\n",
    "### **NOTE: to run the engine using this script, you need to jump to \"---- ENGINE SCRIPT---\" and run through each component, and then come back to this section!** The code is designed for \"BeHoppy\" data."
   ]
  },
  {
   "cell_type": "markdown",
   "metadata": {},
   "source": [
    "### **User-beer Recommendation**"
   ]
  },
  {
   "cell_type": "code",
   "execution_count": 788,
   "metadata": {
    "collapsed": true
   },
   "outputs": [],
   "source": [
    "user = 33"
   ]
  },
  {
   "cell_type": "code",
   "execution_count": 789,
   "metadata": {
    "collapsed": false
   },
   "outputs": [
    {
     "name": "stdout",
     "output_type": "stream",
     "text": [
      "user_id= 33\n",
      "\n",
      "   user_id  beer_id  pred_rating\n",
      "0       33        7          5.0\n",
      "1       33       37          5.0\n",
      "2       33       56          5.0\n",
      "3       33       77          5.0\n",
      "4       33      115          5.0\n",
      "5       33      147          5.0\n",
      "6       33      230          5.0\n",
      "7       33      259          5.0\n",
      "8       33      270          5.0\n",
      "9       33     4820          5.0\n"
     ]
    }
   ],
   "source": [
    "print 'user_id=', user\n",
    "print \n",
    "if user not in users_pred_beers_ratings:\n",
    "    print 'new users! recommend best beers:'\n",
    "    best_beers=pd.read_sql_query(\"select beer, rating, count \"\n",
    "                            \"from best_beers limit 10;\", local_db)\n",
    "    print best_beers.head(10)\n",
    "else:\n",
    "    pred_beers=pd.read_sql_query(\"select user_id, beer_id, pred_rating \"\n",
    "                               \"from usersReco \"\n",
    "                               \"where user_id=\"+str(user)+\" limit 10;\", local_db)\n",
    "    print pred_beers.head(10)"
   ]
  },
  {
   "cell_type": "markdown",
   "metadata": {},
   "source": [
    "### **New User coming in! Recommend the best (average) rated beers**"
   ]
  },
  {
   "cell_type": "code",
   "execution_count": 778,
   "metadata": {
    "collapsed": true
   },
   "outputs": [],
   "source": [
    "user=1"
   ]
  },
  {
   "cell_type": "code",
   "execution_count": 782,
   "metadata": {
    "collapsed": false
   },
   "outputs": [
    {
     "name": "stdout",
     "output_type": "stream",
     "text": [
      "user_id= 1\n",
      "\n",
      "new users! recommend best beers:\n",
      "   beer   rating  count\n",
      "0   201  4.56667     60\n",
      "1    10  4.51709    234\n",
      "2   129  4.45070     71\n",
      "3   229  4.40230     87\n",
      "4    94  4.37500     72\n",
      "5   106  4.37037     54\n",
      "6    91  4.35484     31\n",
      "7    32  4.34862    109\n",
      "8   109  4.34286     70\n",
      "9  4820  4.32308     65\n"
     ]
    }
   ],
   "source": [
    "print 'user_id=', user\n",
    "print \n",
    "if user not in users_pred_beers_ratings:\n",
    "    print 'new users! recommend best beers:'\n",
    "    best_beers=pd.read_sql_query(\"select beer, rating, count \"\n",
    "                            \"from best_beers limit 10;\", local_db)\n",
    "    print best_beers.head(10)\n",
    "else:\n",
    "    pred_beers=pd.read_sql_query(\"select user_id, beer_id, pred_rating \"\n",
    "                               \"from usersReco \"\n",
    "                               \"where user_id=\"+str(user)+\" limit 10;\", local_db)\n",
    "    print pred_beers.head(10)"
   ]
  },
  {
   "cell_type": "markdown",
   "metadata": {},
   "source": [
    "## **Beer-beer recommendation**"
   ]
  },
  {
   "cell_type": "code",
   "execution_count": 790,
   "metadata": {
    "collapsed": false
   },
   "outputs": [],
   "source": [
    "beer_item = 201"
   ]
  },
  {
   "cell_type": "code",
   "execution_count": 791,
   "metadata": {
    "collapsed": false
   },
   "outputs": [
    {
     "name": "stdout",
     "output_type": "stream",
     "text": [
      "beers are similar to beer- 201\n",
      "   beer1  beer2     score\n",
      "0    201    201  0.000000\n",
      "1    201     94  0.162634\n",
      "2    201     38  0.171473\n",
      "3    201     27  0.175282\n",
      "4    201    229  0.254319\n",
      "5    201    129  0.260824\n",
      "6    201     35  0.263276\n",
      "7    201   4820  0.275548\n",
      "8    201    109  0.278135\n",
      "9    201     81  0.281885\n"
     ]
    }
   ],
   "source": [
    "print 'beers are similar to beer-', beer_item\n",
    "                                                     \n",
    "item_reco=pd.read_sql_query(\"select beer1, beer2, score \"\n",
    "                            \"from similarity where beer1 = \"+str(beer_item)+\" limit 10;\", local_db)\n",
    "print item_reco.head(10)"
   ]
  },
  {
   "cell_type": "code",
   "execution_count": null,
   "metadata": {
    "collapsed": true
   },
   "outputs": [],
   "source": []
  },
  {
   "cell_type": "markdown",
   "metadata": {},
   "source": [
    "# **     --------- ENGINE SCRIPT --------   **"
   ]
  },
  {
   "cell_type": "markdown",
   "metadata": {},
   "source": [
    "### In the following I will explain each of piece of the prduction code in a Python script format. The data are from BeHoppy.\n",
    "\n",
    "[Python-SQL connector](https://dev.mysql.com/doc/connector-python/en/connector-python-example-cursor-transaction.html)"
   ]
  },
  {
   "cell_type": "code",
   "execution_count": 2,
   "metadata": {
    "collapsed": false
   },
   "outputs": [],
   "source": [
    "import numpy as np\n",
    "import pandas as pd\n",
    "import pymysql as mdb\n",
    "\n",
    "source_db = mdb.connect(xxxx)\n",
    "local_db = mdb.connect(user=\"root\", host=\"localhost\", db=\"reco-api\", charset='utf8')"
   ]
  },
  {
   "cell_type": "markdown",
   "metadata": {},
   "source": [
    "## **A. The BeHoppy Data**"
   ]
  },
  {
   "cell_type": "markdown",
   "metadata": {},
   "source": [
    "### **Beer Data**\n",
    "\n",
    "[Reading SQL query loading in pandas](http://pandas.pydata.org/pandas-docs/stable/generated/pandas.read_sql_query.html)\n",
    "\n",
    "### **Note here in the query I only consider the rated beers (there are many unrated beers)**"
   ]
  },
  {
   "cell_type": "code",
   "execution_count": 3,
   "metadata": {
    "collapsed": false
   },
   "outputs": [
    {
     "data": {
      "text/html": [
       "<div>\n",
       "<table border=\"1\" class=\"dataframe\">\n",
       "  <thead>\n",
       "    <tr style=\"text-align: right;\">\n",
       "      <th></th>\n",
       "      <th>id</th>\n",
       "      <th>country</th>\n",
       "      <th>flavor</th>\n",
       "      <th>style</th>\n",
       "      <th>average_rating</th>\n",
       "      <th>number_of_ratings</th>\n",
       "      <th>average_aroma_rating</th>\n",
       "      <th>average_appearance_rating</th>\n",
       "      <th>average_taste_rating</th>\n",
       "      <th>average_body_rating</th>\n",
       "    </tr>\n",
       "  </thead>\n",
       "  <tbody>\n",
       "    <tr>\n",
       "      <th>0</th>\n",
       "      <td>5</td>\n",
       "      <td>BEL</td>\n",
       "      <td>Amadeirado</td>\n",
       "      <td>Lager</td>\n",
       "      <td>3.76380</td>\n",
       "      <td>652</td>\n",
       "      <td>3.49053</td>\n",
       "      <td>3.73823</td>\n",
       "      <td>3.70755</td>\n",
       "      <td>3.42045</td>\n",
       "    </tr>\n",
       "    <tr>\n",
       "      <th>1</th>\n",
       "      <td>6</td>\n",
       "      <td>BEL</td>\n",
       "      <td>Doce</td>\n",
       "      <td>Ale</td>\n",
       "      <td>4.18735</td>\n",
       "      <td>427</td>\n",
       "      <td>4.11634</td>\n",
       "      <td>4.17808</td>\n",
       "      <td>4.23014</td>\n",
       "      <td>4.04121</td>\n",
       "    </tr>\n",
       "    <tr>\n",
       "      <th>2</th>\n",
       "      <td>7</td>\n",
       "      <td>MEX</td>\n",
       "      <td>Doce</td>\n",
       "      <td>Lager</td>\n",
       "      <td>3.81417</td>\n",
       "      <td>635</td>\n",
       "      <td>3.41279</td>\n",
       "      <td>3.80583</td>\n",
       "      <td>3.70986</td>\n",
       "      <td>3.32879</td>\n",
       "    </tr>\n",
       "    <tr>\n",
       "      <th>3</th>\n",
       "      <td>8</td>\n",
       "      <td>BRA</td>\n",
       "      <td>Doce</td>\n",
       "      <td>Bohemian Pilsener</td>\n",
       "      <td>3.71107</td>\n",
       "      <td>488</td>\n",
       "      <td>3.17829</td>\n",
       "      <td>3.41237</td>\n",
       "      <td>3.59278</td>\n",
       "      <td>3.15762</td>\n",
       "    </tr>\n",
       "    <tr>\n",
       "      <th>4</th>\n",
       "      <td>9</td>\n",
       "      <td>EUA</td>\n",
       "      <td>Doce</td>\n",
       "      <td>Lager</td>\n",
       "      <td>3.55008</td>\n",
       "      <td>629</td>\n",
       "      <td>3.19721</td>\n",
       "      <td>3.40278</td>\n",
       "      <td>3.48708</td>\n",
       "      <td>3.09562</td>\n",
       "    </tr>\n",
       "  </tbody>\n",
       "</table>\n",
       "</div>"
      ],
      "text/plain": [
       "   id country      flavor              style  average_rating  \\\n",
       "0   5     BEL  Amadeirado              Lager         3.76380   \n",
       "1   6     BEL        Doce                Ale         4.18735   \n",
       "2   7     MEX        Doce              Lager         3.81417   \n",
       "3   8     BRA        Doce  Bohemian Pilsener         3.71107   \n",
       "4   9     EUA        Doce              Lager         3.55008   \n",
       "\n",
       "   number_of_ratings  average_aroma_rating  average_appearance_rating  \\\n",
       "0                652               3.49053                    3.73823   \n",
       "1                427               4.11634                    4.17808   \n",
       "2                635               3.41279                    3.80583   \n",
       "3                488               3.17829                    3.41237   \n",
       "4                629               3.19721                    3.40278   \n",
       "\n",
       "   average_taste_rating  average_body_rating  \n",
       "0               3.70755              3.42045  \n",
       "1               4.23014              4.04121  \n",
       "2               3.70986              3.32879  \n",
       "3               3.59278              3.15762  \n",
       "4               3.48708              3.09562  "
      ]
     },
     "execution_count": 3,
     "metadata": {},
     "output_type": "execute_result"
    }
   ],
   "source": [
    "select_query = (\"select beers.id, origins.name as country, flavors.name as flavor, \"\n",
    "               \"styles.name as style, average_rating, number_of_ratings, average_aroma_rating, \"\n",
    "               \"average_appearance_rating, average_taste_rating, average_body_rating \")\n",
    "\n",
    "from_query = (\"from beers join brands on (beers.brand_id = brands.id) \"\n",
    "                       \"join origins on (brands.origin_id = origins.id) \"\n",
    "                       \"left join flavors on (beers.flavor_id = flavors.id) \"\n",
    "                       \"left join styles on (beers.style_id = styles.id) \")\n",
    "\n",
    "order_query = \"where number_of_ratings > 0 order by id\"\n",
    "\n",
    "beers = pd.read_sql_query(select_query+from_query+order_query+\";\",source_db)\n",
    "\n",
    "beers.head()"
   ]
  },
  {
   "cell_type": "code",
   "execution_count": 3,
   "metadata": {
    "collapsed": false
   },
   "outputs": [
    {
     "data": {
      "text/plain": [
       "(2973, 10)"
      ]
     },
     "execution_count": 3,
     "metadata": {},
     "output_type": "execute_result"
    }
   ],
   "source": [
    "beers.shape"
   ]
  },
  {
   "cell_type": "markdown",
   "metadata": {},
   "source": [
    "This means there are 9 features for each beer:  country, flavor, styple, average_rating, number_of_ratings, average_aroma_rating, average_appearance_rating, average_taste_rating and average_body_rating (id is the beer-id, excluded from features)"
   ]
  },
  {
   "cell_type": "markdown",
   "metadata": {},
   "source": [
    "### **Fill up missing (NAN/NA) values [see](http://pandas.pydata.org/pandas-docs/stable/missing_data.html#filling-missing-values-fillna)**"
   ]
  },
  {
   "cell_type": "code",
   "execution_count": 6,
   "metadata": {
    "collapsed": false
   },
   "outputs": [
    {
     "data": {
      "text/plain": [
       "(3864, 234)"
      ]
     },
     "execution_count": 6,
     "metadata": {},
     "output_type": "execute_result"
    }
   ],
   "source": [
    "beers = beers.fillna(0)\n",
    "beers.shape"
   ]
  },
  {
   "cell_type": "markdown",
   "metadata": {},
   "source": [
    "### **Convert categorical variables to dummy variables**\n",
    "\n",
    "Note the categorical variabels: country, flavor and style are not numerics. We need to introduce dummy (binary) variables, i.e. country = BEL, flavor =Amadeirado for id=5; MEX, Doce for id = 7, and BRA, Doce for id=8, then the feature to represent the country will be (1,0,0..1,0,...), (0,1,0,...0,1,...) and (0,0,1,...0,1,..). The representation is (BEL = 1/0, MEX = 1/0, BRA = 1/0,... , Amadeirado = 1/0, Doce = 1/0..) "
   ]
  },
  {
   "cell_type": "code",
   "execution_count": 7,
   "metadata": {
    "collapsed": false
   },
   "outputs": [
    {
     "data": {
      "text/html": [
       "<div>\n",
       "<table border=\"1\" class=\"dataframe\">\n",
       "  <thead>\n",
       "    <tr style=\"text-align: right;\">\n",
       "      <th></th>\n",
       "      <th>id</th>\n",
       "      <th>average_rating</th>\n",
       "      <th>number_of_ratings</th>\n",
       "      <th>average_aroma_rating</th>\n",
       "      <th>average_appearance_rating</th>\n",
       "      <th>average_taste_rating</th>\n",
       "      <th>average_body_rating</th>\n",
       "      <th>country_---</th>\n",
       "      <th>country_ABW</th>\n",
       "      <th>country_AGO</th>\n",
       "      <th>...</th>\n",
       "      <th>style_Standard American Lager</th>\n",
       "      <th>style_Steam Beer</th>\n",
       "      <th>style_Sweet Stout</th>\n",
       "      <th>style_Vienna Lager</th>\n",
       "      <th>style_Weiss</th>\n",
       "      <th>style_Weizen / Weissbier</th>\n",
       "      <th>style_Weizen Doppelbock</th>\n",
       "      <th>style_Wheat Beer</th>\n",
       "      <th>style_Wood Aged Beer</th>\n",
       "      <th>style_Zwickelbier Ale</th>\n",
       "    </tr>\n",
       "  </thead>\n",
       "  <tbody>\n",
       "    <tr>\n",
       "      <th>0</th>\n",
       "      <td>5</td>\n",
       "      <td>3.76380</td>\n",
       "      <td>652</td>\n",
       "      <td>3.49053</td>\n",
       "      <td>3.73823</td>\n",
       "      <td>3.70755</td>\n",
       "      <td>3.42045</td>\n",
       "      <td>0</td>\n",
       "      <td>0</td>\n",
       "      <td>0</td>\n",
       "      <td>...</td>\n",
       "      <td>0</td>\n",
       "      <td>0</td>\n",
       "      <td>0</td>\n",
       "      <td>0</td>\n",
       "      <td>0</td>\n",
       "      <td>0</td>\n",
       "      <td>0</td>\n",
       "      <td>0</td>\n",
       "      <td>0</td>\n",
       "      <td>0</td>\n",
       "    </tr>\n",
       "    <tr>\n",
       "      <th>1</th>\n",
       "      <td>6</td>\n",
       "      <td>4.18735</td>\n",
       "      <td>427</td>\n",
       "      <td>4.11634</td>\n",
       "      <td>4.17808</td>\n",
       "      <td>4.23014</td>\n",
       "      <td>4.04121</td>\n",
       "      <td>0</td>\n",
       "      <td>0</td>\n",
       "      <td>0</td>\n",
       "      <td>...</td>\n",
       "      <td>0</td>\n",
       "      <td>0</td>\n",
       "      <td>0</td>\n",
       "      <td>0</td>\n",
       "      <td>0</td>\n",
       "      <td>0</td>\n",
       "      <td>0</td>\n",
       "      <td>0</td>\n",
       "      <td>0</td>\n",
       "      <td>0</td>\n",
       "    </tr>\n",
       "    <tr>\n",
       "      <th>2</th>\n",
       "      <td>7</td>\n",
       "      <td>3.81417</td>\n",
       "      <td>635</td>\n",
       "      <td>3.41279</td>\n",
       "      <td>3.80583</td>\n",
       "      <td>3.70986</td>\n",
       "      <td>3.32879</td>\n",
       "      <td>0</td>\n",
       "      <td>0</td>\n",
       "      <td>0</td>\n",
       "      <td>...</td>\n",
       "      <td>0</td>\n",
       "      <td>0</td>\n",
       "      <td>0</td>\n",
       "      <td>0</td>\n",
       "      <td>0</td>\n",
       "      <td>0</td>\n",
       "      <td>0</td>\n",
       "      <td>0</td>\n",
       "      <td>0</td>\n",
       "      <td>0</td>\n",
       "    </tr>\n",
       "    <tr>\n",
       "      <th>3</th>\n",
       "      <td>8</td>\n",
       "      <td>3.71107</td>\n",
       "      <td>488</td>\n",
       "      <td>3.17829</td>\n",
       "      <td>3.41237</td>\n",
       "      <td>3.59278</td>\n",
       "      <td>3.15762</td>\n",
       "      <td>0</td>\n",
       "      <td>0</td>\n",
       "      <td>0</td>\n",
       "      <td>...</td>\n",
       "      <td>0</td>\n",
       "      <td>0</td>\n",
       "      <td>0</td>\n",
       "      <td>0</td>\n",
       "      <td>0</td>\n",
       "      <td>0</td>\n",
       "      <td>0</td>\n",
       "      <td>0</td>\n",
       "      <td>0</td>\n",
       "      <td>0</td>\n",
       "    </tr>\n",
       "    <tr>\n",
       "      <th>4</th>\n",
       "      <td>9</td>\n",
       "      <td>3.55008</td>\n",
       "      <td>629</td>\n",
       "      <td>3.19721</td>\n",
       "      <td>3.40278</td>\n",
       "      <td>3.48708</td>\n",
       "      <td>3.09562</td>\n",
       "      <td>0</td>\n",
       "      <td>0</td>\n",
       "      <td>0</td>\n",
       "      <td>...</td>\n",
       "      <td>0</td>\n",
       "      <td>0</td>\n",
       "      <td>0</td>\n",
       "      <td>0</td>\n",
       "      <td>0</td>\n",
       "      <td>0</td>\n",
       "      <td>0</td>\n",
       "      <td>0</td>\n",
       "      <td>0</td>\n",
       "      <td>0</td>\n",
       "    </tr>\n",
       "  </tbody>\n",
       "</table>\n",
       "<p>5 rows × 234 columns</p>\n",
       "</div>"
      ],
      "text/plain": [
       "   id  average_rating  number_of_ratings  average_aroma_rating  \\\n",
       "0   5         3.76380                652               3.49053   \n",
       "1   6         4.18735                427               4.11634   \n",
       "2   7         3.81417                635               3.41279   \n",
       "3   8         3.71107                488               3.17829   \n",
       "4   9         3.55008                629               3.19721   \n",
       "\n",
       "   average_appearance_rating  average_taste_rating  average_body_rating  \\\n",
       "0                    3.73823               3.70755              3.42045   \n",
       "1                    4.17808               4.23014              4.04121   \n",
       "2                    3.80583               3.70986              3.32879   \n",
       "3                    3.41237               3.59278              3.15762   \n",
       "4                    3.40278               3.48708              3.09562   \n",
       "\n",
       "   country_---  country_ABW  country_AGO          ...            \\\n",
       "0            0            0            0          ...             \n",
       "1            0            0            0          ...             \n",
       "2            0            0            0          ...             \n",
       "3            0            0            0          ...             \n",
       "4            0            0            0          ...             \n",
       "\n",
       "   style_Standard American Lager  style_Steam Beer  style_Sweet Stout  \\\n",
       "0                              0                 0                  0   \n",
       "1                              0                 0                  0   \n",
       "2                              0                 0                  0   \n",
       "3                              0                 0                  0   \n",
       "4                              0                 0                  0   \n",
       "\n",
       "   style_Vienna Lager  style_Weiss  style_Weizen / Weissbier  \\\n",
       "0                   0            0                         0   \n",
       "1                   0            0                         0   \n",
       "2                   0            0                         0   \n",
       "3                   0            0                         0   \n",
       "4                   0            0                         0   \n",
       "\n",
       "   style_Weizen Doppelbock  style_Wheat Beer  style_Wood Aged Beer  \\\n",
       "0                        0                 0                     0   \n",
       "1                        0                 0                     0   \n",
       "2                        0                 0                     0   \n",
       "3                        0                 0                     0   \n",
       "4                        0                 0                     0   \n",
       "\n",
       "   style_Zwickelbier Ale  \n",
       "0                      0  \n",
       "1                      0  \n",
       "2                      0  \n",
       "3                      0  \n",
       "4                      0  \n",
       "\n",
       "[5 rows x 234 columns]"
      ]
     },
     "execution_count": 7,
     "metadata": {},
     "output_type": "execute_result"
    }
   ],
   "source": [
    "beers = pd.get_dummies(beers)\n",
    "beers.head()"
   ]
  },
  {
   "cell_type": "code",
   "execution_count": 8,
   "metadata": {
    "collapsed": false
   },
   "outputs": [
    {
     "data": {
      "text/plain": [
       "(3864, 234)"
      ]
     },
     "execution_count": 8,
     "metadata": {},
     "output_type": "execute_result"
    }
   ],
   "source": [
    "beers.shape"
   ]
  },
  {
   "cell_type": "markdown",
   "metadata": {},
   "source": [
    "### **Average and standard deviations of numeric features (over all beers)**\n",
    "\n",
    "This is to find average number of ratings, average rating of aroma, appeatance, taste and body over all beers. These numbers will be used to mean-normalize the features."
   ]
  },
  {
   "cell_type": "code",
   "execution_count": 8,
   "metadata": {
    "collapsed": false
   },
   "outputs": [
    {
     "name": "stdout",
     "output_type": "stream",
     "text": [
      "[9.8647830474268421, 3.5487109552640375, 3.6011405886310111, 3.5874110965354831, 3.433094345778676]\n"
     ]
    }
   ],
   "source": [
    "avg_features = beers.mean(axis=0)[2:7].tolist()\n",
    "print (avg_features)"
   ]
  },
  {
   "cell_type": "code",
   "execution_count": 9,
   "metadata": {
    "collapsed": false
   },
   "outputs": [
    {
     "name": "stdout",
     "output_type": "stream",
     "text": [
      "[33.434190611996307, 1.1866339616711641, 1.1664659711111705, 1.2065632859955246, 1.1811966999146968]\n"
     ]
    }
   ],
   "source": [
    "std_features = beers.std(axis=0)[2:7].tolist()\n",
    "print (std_features)"
   ]
  },
  {
   "cell_type": "code",
   "execution_count": 10,
   "metadata": {
    "collapsed": false
   },
   "outputs": [
    {
     "data": {
      "text/plain": [
       "id                           5986.864110\n",
       "average_rating                  3.826264\n",
       "number_of_ratings               9.864783\n",
       "average_aroma_rating            3.548711\n",
       "average_appearance_rating       3.601141\n",
       "average_taste_rating            3.587411\n",
       "average_body_rating             3.433094\n",
       "country_---                     0.194080\n",
       "country_AGO                     0.000336\n",
       "country_ARG                     0.005045\n",
       "dtype: float64"
      ]
     },
     "execution_count": 10,
     "metadata": {},
     "output_type": "execute_result"
    }
   ],
   "source": [
    "beers.mean(axis=0).head(10)"
   ]
  },
  {
   "cell_type": "markdown",
   "metadata": {},
   "source": [
    "### **Ranking rated beers**\n",
    "\n",
    "This is to rank the beers according to rating (in average). For users who have not tasted any beers, or not been satisfied at beers, recommend these high-score rated beers to the users. Here also consider a filter where the beers are needed to be rated more than **30** times."
   ]
  },
  {
   "cell_type": "code",
   "execution_count": 11,
   "metadata": {
    "collapsed": false
   },
   "outputs": [
    {
     "data": {
      "text/html": [
       "<div>\n",
       "<table border=\"1\" class=\"dataframe\">\n",
       "  <thead>\n",
       "    <tr style=\"text-align: right;\">\n",
       "      <th></th>\n",
       "      <th>id</th>\n",
       "      <th>average_rating</th>\n",
       "      <th>number_of_ratings</th>\n",
       "    </tr>\n",
       "  </thead>\n",
       "  <tbody>\n",
       "    <tr>\n",
       "      <th>0</th>\n",
       "      <td>5</td>\n",
       "      <td>3.77752</td>\n",
       "      <td>427</td>\n",
       "    </tr>\n",
       "    <tr>\n",
       "      <th>1</th>\n",
       "      <td>6</td>\n",
       "      <td>4.18113</td>\n",
       "      <td>265</td>\n",
       "    </tr>\n",
       "    <tr>\n",
       "      <th>2</th>\n",
       "      <td>7</td>\n",
       "      <td>3.83014</td>\n",
       "      <td>418</td>\n",
       "    </tr>\n",
       "    <tr>\n",
       "      <th>3</th>\n",
       "      <td>8</td>\n",
       "      <td>3.76923</td>\n",
       "      <td>325</td>\n",
       "    </tr>\n",
       "    <tr>\n",
       "      <th>4</th>\n",
       "      <td>9</td>\n",
       "      <td>3.55362</td>\n",
       "      <td>401</td>\n",
       "    </tr>\n",
       "  </tbody>\n",
       "</table>\n",
       "</div>"
      ],
      "text/plain": [
       "   id  average_rating  number_of_ratings\n",
       "0   5         3.77752                427\n",
       "1   6         4.18113                265\n",
       "2   7         3.83014                418\n",
       "3   8         3.76923                325\n",
       "4   9         3.55362                401"
      ]
     },
     "execution_count": 11,
     "metadata": {},
     "output_type": "execute_result"
    }
   ],
   "source": [
    "avg_beers_rating = beers[['id','average_rating','number_of_ratings']][beers.number_of_ratings>30]\n",
    "avg_beers_rating.head()"
   ]
  },
  {
   "cell_type": "markdown",
   "metadata": {},
   "source": [
    "Now turn the data frame to a list, in order to sort. Each element is a tuple (beerId, ave_score, rating_times)."
   ]
  },
  {
   "cell_type": "code",
   "execution_count": 13,
   "metadata": {
    "collapsed": false
   },
   "outputs": [
    {
     "name": "stdout",
     "output_type": "stream",
     "text": [
      "[(5.0, 3.77752, 427.0), (6.0, 4.1811299999999996, 265.0), (7.0, 3.8301400000000001, 418.0), (8.0, 3.7692299999999999, 325.0)]\n"
     ]
    }
   ],
   "source": [
    "avg_beers_rating = [tuple(x) for x in avg_beers_rating.values]\n",
    "print (avg_beers_rating[:4])"
   ]
  },
  {
   "cell_type": "code",
   "execution_count": 14,
   "metadata": {
    "collapsed": false
   },
   "outputs": [
    {
     "data": {
      "text/html": [
       "<div>\n",
       "<table border=\"1\" class=\"dataframe\">\n",
       "  <thead>\n",
       "    <tr style=\"text-align: right;\">\n",
       "      <th></th>\n",
       "      <th>beer</th>\n",
       "      <th>ratings</th>\n",
       "      <th>Nratings</th>\n",
       "    </tr>\n",
       "  </thead>\n",
       "  <tbody>\n",
       "    <tr>\n",
       "      <th>0</th>\n",
       "      <td>79</td>\n",
       "      <td>4.87302</td>\n",
       "      <td>63</td>\n",
       "    </tr>\n",
       "    <tr>\n",
       "      <th>1</th>\n",
       "      <td>2671</td>\n",
       "      <td>4.72727</td>\n",
       "      <td>44</td>\n",
       "    </tr>\n",
       "    <tr>\n",
       "      <th>2</th>\n",
       "      <td>144</td>\n",
       "      <td>4.67164</td>\n",
       "      <td>67</td>\n",
       "    </tr>\n",
       "    <tr>\n",
       "      <th>3</th>\n",
       "      <td>201</td>\n",
       "      <td>4.55621</td>\n",
       "      <td>169</td>\n",
       "    </tr>\n",
       "    <tr>\n",
       "      <th>4</th>\n",
       "      <td>39</td>\n",
       "      <td>4.53846</td>\n",
       "      <td>65</td>\n",
       "    </tr>\n",
       "  </tbody>\n",
       "</table>\n",
       "</div>"
      ],
      "text/plain": [
       "   beer  ratings  Nratings\n",
       "0    79  4.87302        63\n",
       "1  2671  4.72727        44\n",
       "2   144  4.67164        67\n",
       "3   201  4.55621       169\n",
       "4    39  4.53846        65"
      ]
     },
     "execution_count": 14,
     "metadata": {},
     "output_type": "execute_result"
    }
   ],
   "source": [
    "best_beers = sorted(avg_beers_rating, key=lambda tup: -tup[1])\n",
    "#print best_beers[:6]\n",
    "pd.DataFrame(best_beers,  columns=[\"beer\", \"ratings\", \"Nratings\"]).head()"
   ]
  },
  {
   "cell_type": "markdown",
   "metadata": {},
   "source": [
    "Now beers in the **\"best_beers\"** list is ranked, highest is **beer-79**, rating = 4.833.. second is **beer-87**, rating = 4.8.. If we meet the new users, or users have not been satisfied yet, recommend the beers to them."
   ]
  },
  {
   "cell_type": "markdown",
   "metadata": {},
   "source": [
    "### **Rating record table**"
   ]
  },
  {
   "cell_type": "code",
   "execution_count": 15,
   "metadata": {
    "collapsed": false
   },
   "outputs": [
    {
     "data": {
      "text/html": [
       "<div>\n",
       "<table border=\"1\" class=\"dataframe\">\n",
       "  <thead>\n",
       "    <tr style=\"text-align: right;\">\n",
       "      <th></th>\n",
       "      <th>score</th>\n",
       "      <th>user_id</th>\n",
       "      <th>beer_id</th>\n",
       "    </tr>\n",
       "  </thead>\n",
       "  <tbody>\n",
       "    <tr>\n",
       "      <th>0</th>\n",
       "      <td>4</td>\n",
       "      <td>7</td>\n",
       "      <td>6</td>\n",
       "    </tr>\n",
       "    <tr>\n",
       "      <th>1</th>\n",
       "      <td>4</td>\n",
       "      <td>48</td>\n",
       "      <td>7</td>\n",
       "    </tr>\n",
       "    <tr>\n",
       "      <th>2</th>\n",
       "      <td>4</td>\n",
       "      <td>47</td>\n",
       "      <td>9</td>\n",
       "    </tr>\n",
       "    <tr>\n",
       "      <th>3</th>\n",
       "      <td>4</td>\n",
       "      <td>47</td>\n",
       "      <td>10</td>\n",
       "    </tr>\n",
       "    <tr>\n",
       "      <th>4</th>\n",
       "      <td>4</td>\n",
       "      <td>50</td>\n",
       "      <td>9</td>\n",
       "    </tr>\n",
       "  </tbody>\n",
       "</table>\n",
       "</div>"
      ],
      "text/plain": [
       "   score  user_id  beer_id\n",
       "0      4        7        6\n",
       "1      4       48        7\n",
       "2      4       47        9\n",
       "3      4       47       10\n",
       "4      4       50        9"
      ]
     },
     "execution_count": 15,
     "metadata": {},
     "output_type": "execute_result"
    }
   ],
   "source": [
    "ratings = pd.read_sql_query(\"SELECT score,user_id, beer_id from ratings where user_id is not null or beer_id is not null;\",source_db)\n",
    "ratings.head()"
   ]
  },
  {
   "cell_type": "code",
   "execution_count": 16,
   "metadata": {
    "collapsed": false
   },
   "outputs": [
    {
     "data": {
      "text/plain": [
       "(29414, 3)"
      ]
     },
     "execution_count": 16,
     "metadata": {},
     "output_type": "execute_result"
    }
   ],
   "source": [
    "ratings.shape"
   ]
  },
  {
   "cell_type": "markdown",
   "metadata": {},
   "source": [
    "### **Other data: brands, flavors, users ....**"
   ]
  },
  {
   "cell_type": "code",
   "execution_count": 17,
   "metadata": {
    "collapsed": false
   },
   "outputs": [
    {
     "data": {
      "text/html": [
       "<div>\n",
       "<table border=\"1\" class=\"dataframe\">\n",
       "  <thead>\n",
       "    <tr style=\"text-align: right;\">\n",
       "      <th></th>\n",
       "      <th>id</th>\n",
       "      <th>name</th>\n",
       "      <th>description</th>\n",
       "      <th>origin_id</th>\n",
       "      <th>created_at</th>\n",
       "      <th>updated_at</th>\n",
       "      <th>profile_picture_file_name</th>\n",
       "      <th>profile_picture_content_type</th>\n",
       "      <th>profile_picture_file_size</th>\n",
       "      <th>profile_picture_updated_at</th>\n",
       "      <th>brewery</th>\n",
       "      <th>group</th>\n",
       "      <th>sourceOfData</th>\n",
       "      <th>purchase_link</th>\n",
       "    </tr>\n",
       "  </thead>\n",
       "  <tbody>\n",
       "    <tr>\n",
       "      <th>0</th>\n",
       "      <td>5</td>\n",
       "      <td>Stella Artois</td>\n",
       "      <td>Stella</td>\n",
       "      <td>1</td>\n",
       "      <td>2015-11-03 21:09:21</td>\n",
       "      <td>2016-05-03 15:21:12</td>\n",
       "      <td>7e30318a-a613-4776-b27c-f32da199ecb2</td>\n",
       "      <td>image/jpeg</td>\n",
       "      <td>367102</td>\n",
       "      <td>2016-03-27 19:56:23</td>\n",
       "      <td>Anheuser Busch Inbev</td>\n",
       "      <td>Anheuser Busch Inbev</td>\n",
       "      <td>Hoppy</td>\n",
       "      <td>http://www.emporiodacerveja.com.br/stella-arto...</td>\n",
       "    </tr>\n",
       "    <tr>\n",
       "      <th>1</th>\n",
       "      <td>6</td>\n",
       "      <td>Leffe</td>\n",
       "      <td>Leffe</td>\n",
       "      <td>1</td>\n",
       "      <td>2015-11-18 16:44:35</td>\n",
       "      <td>2016-05-03 15:15:47</td>\n",
       "      <td>e81e8feb-bce1-4160-8fb4-2cc75f7acf71</td>\n",
       "      <td>image/png</td>\n",
       "      <td>1259087</td>\n",
       "      <td>2016-03-27 19:56:36</td>\n",
       "      <td>Ambev</td>\n",
       "      <td>Ambev</td>\n",
       "      <td>Hoppy</td>\n",
       "      <td>http://www.emporiodacerveja.com.br/leffe?utm_s...</td>\n",
       "    </tr>\n",
       "    <tr>\n",
       "      <th>2</th>\n",
       "      <td>7</td>\n",
       "      <td>Corona</td>\n",
       "      <td>Corona</td>\n",
       "      <td>4</td>\n",
       "      <td>2015-11-26 12:05:55</td>\n",
       "      <td>2016-05-03 15:09:45</td>\n",
       "      <td>a8308b3f-16b5-4113-b808-f7a6f595f6f0</td>\n",
       "      <td>image/jpeg</td>\n",
       "      <td>5845</td>\n",
       "      <td>2016-03-27 19:56:46</td>\n",
       "      <td>Corona</td>\n",
       "      <td>Corona</td>\n",
       "      <td>Hoppy</td>\n",
       "      <td>http://www.emporiodacerveja.com.br/corona?utm_...</td>\n",
       "    </tr>\n",
       "    <tr>\n",
       "      <th>3</th>\n",
       "      <td>8</td>\n",
       "      <td>Antarctica</td>\n",
       "      <td>Antarctica</td>\n",
       "      <td>3</td>\n",
       "      <td>2015-11-26 13:59:31</td>\n",
       "      <td>2016-05-03 15:00:17</td>\n",
       "      <td>None</td>\n",
       "      <td>None</td>\n",
       "      <td>NaN</td>\n",
       "      <td>NaT</td>\n",
       "      <td>Antarctica</td>\n",
       "      <td>Antarctica</td>\n",
       "      <td>Hoppy</td>\n",
       "      <td>http://www.emporiodacerveja.com.br/antarctica?...</td>\n",
       "    </tr>\n",
       "    <tr>\n",
       "      <th>4</th>\n",
       "      <td>9</td>\n",
       "      <td>Budweiser</td>\n",
       "      <td>Budweiser</td>\n",
       "      <td>5</td>\n",
       "      <td>2015-11-26 14:01:51</td>\n",
       "      <td>2016-05-03 15:09:03</td>\n",
       "      <td>None</td>\n",
       "      <td>None</td>\n",
       "      <td>NaN</td>\n",
       "      <td>NaT</td>\n",
       "      <td>Budweiser</td>\n",
       "      <td>Budweiser</td>\n",
       "      <td>Hoppy</td>\n",
       "      <td>http://www.emporiodacerveja.com.br/budweiser?u...</td>\n",
       "    </tr>\n",
       "  </tbody>\n",
       "</table>\n",
       "</div>"
      ],
      "text/plain": [
       "   id           name description  origin_id          created_at  \\\n",
       "0   5  Stella Artois      Stella          1 2015-11-03 21:09:21   \n",
       "1   6          Leffe       Leffe          1 2015-11-18 16:44:35   \n",
       "2   7         Corona      Corona          4 2015-11-26 12:05:55   \n",
       "3   8     Antarctica  Antarctica          3 2015-11-26 13:59:31   \n",
       "4   9      Budweiser   Budweiser          5 2015-11-26 14:01:51   \n",
       "\n",
       "           updated_at             profile_picture_file_name  \\\n",
       "0 2016-05-03 15:21:12  7e30318a-a613-4776-b27c-f32da199ecb2   \n",
       "1 2016-05-03 15:15:47  e81e8feb-bce1-4160-8fb4-2cc75f7acf71   \n",
       "2 2016-05-03 15:09:45  a8308b3f-16b5-4113-b808-f7a6f595f6f0   \n",
       "3 2016-05-03 15:00:17                                  None   \n",
       "4 2016-05-03 15:09:03                                  None   \n",
       "\n",
       "  profile_picture_content_type  profile_picture_file_size  \\\n",
       "0                   image/jpeg                     367102   \n",
       "1                    image/png                    1259087   \n",
       "2                   image/jpeg                       5845   \n",
       "3                         None                        NaN   \n",
       "4                         None                        NaN   \n",
       "\n",
       "  profile_picture_updated_at               brewery                 group  \\\n",
       "0        2016-03-27 19:56:23  Anheuser Busch Inbev  Anheuser Busch Inbev   \n",
       "1        2016-03-27 19:56:36                 Ambev                 Ambev   \n",
       "2        2016-03-27 19:56:46                Corona                Corona   \n",
       "3                        NaT            Antarctica            Antarctica   \n",
       "4                        NaT             Budweiser             Budweiser   \n",
       "\n",
       "  sourceOfData                                      purchase_link  \n",
       "0        Hoppy  http://www.emporiodacerveja.com.br/stella-arto...  \n",
       "1        Hoppy  http://www.emporiodacerveja.com.br/leffe?utm_s...  \n",
       "2        Hoppy  http://www.emporiodacerveja.com.br/corona?utm_...  \n",
       "3        Hoppy  http://www.emporiodacerveja.com.br/antarctica?...  \n",
       "4        Hoppy  http://www.emporiodacerveja.com.br/budweiser?u...  "
      ]
     },
     "execution_count": 17,
     "metadata": {},
     "output_type": "execute_result"
    }
   ],
   "source": [
    "brands = pd.read_sql_query(\"SELECT * from brands;\",source_db)\n",
    "brands.head()"
   ]
  },
  {
   "cell_type": "code",
   "execution_count": 18,
   "metadata": {
    "collapsed": false
   },
   "outputs": [
    {
     "data": {
      "text/html": [
       "<div>\n",
       "<table border=\"1\" class=\"dataframe\">\n",
       "  <thead>\n",
       "    <tr style=\"text-align: right;\">\n",
       "      <th></th>\n",
       "      <th>id</th>\n",
       "      <th>name</th>\n",
       "      <th>description</th>\n",
       "      <th>created_at</th>\n",
       "      <th>updated_at</th>\n",
       "      <th>sourceOfData</th>\n",
       "    </tr>\n",
       "  </thead>\n",
       "  <tbody>\n",
       "    <tr>\n",
       "      <th>0</th>\n",
       "      <td>1</td>\n",
       "      <td>Amadeirado</td>\n",
       "      <td></td>\n",
       "      <td>2015-10-27 16:25:13</td>\n",
       "      <td>2015-10-27 16:25:13</td>\n",
       "      <td>Hoppy</td>\n",
       "    </tr>\n",
       "    <tr>\n",
       "      <th>1</th>\n",
       "      <td>2</td>\n",
       "      <td>Doce</td>\n",
       "      <td>Bem doce</td>\n",
       "      <td>2015-11-03 17:45:10</td>\n",
       "      <td>2015-11-03 17:45:10</td>\n",
       "      <td>Hoppy</td>\n",
       "    </tr>\n",
       "  </tbody>\n",
       "</table>\n",
       "</div>"
      ],
      "text/plain": [
       "   id        name description          created_at          updated_at  \\\n",
       "0   1  Amadeirado             2015-10-27 16:25:13 2015-10-27 16:25:13   \n",
       "1   2        Doce    Bem doce 2015-11-03 17:45:10 2015-11-03 17:45:10   \n",
       "\n",
       "  sourceOfData  \n",
       "0        Hoppy  \n",
       "1        Hoppy  "
      ]
     },
     "execution_count": 18,
     "metadata": {},
     "output_type": "execute_result"
    }
   ],
   "source": [
    "flavors = pd.read_sql_query(\"SELECT * from flavors;\",source_db)\n",
    "flavors.head()"
   ]
  },
  {
   "cell_type": "code",
   "execution_count": 19,
   "metadata": {
    "collapsed": false,
    "scrolled": true
   },
   "outputs": [
    {
     "data": {
      "text/html": [
       "<div>\n",
       "<table border=\"1\" class=\"dataframe\">\n",
       "  <thead>\n",
       "    <tr style=\"text-align: right;\">\n",
       "      <th></th>\n",
       "      <th>id</th>\n",
       "      <th>first_name</th>\n",
       "      <th>last_name</th>\n",
       "      <th>email</th>\n",
       "    </tr>\n",
       "  </thead>\n",
       "  <tbody>\n",
       "    <tr>\n",
       "      <th>0</th>\n",
       "      <td>7</td>\n",
       "      <td>Sergio</td>\n",
       "      <td>Freire</td>\n",
       "      <td>sergiohenriquefp@gmail.com</td>\n",
       "    </tr>\n",
       "    <tr>\n",
       "      <th>1</th>\n",
       "      <td>33</td>\n",
       "      <td>Sara</td>\n",
       "      <td>Reinert</td>\n",
       "      <td>sara.reinert@hotmail.com</td>\n",
       "    </tr>\n",
       "    <tr>\n",
       "      <th>2</th>\n",
       "      <td>34</td>\n",
       "      <td>Júlia</td>\n",
       "      <td>Neves</td>\n",
       "      <td>jr_neves3@hotmail.com</td>\n",
       "    </tr>\n",
       "    <tr>\n",
       "      <th>3</th>\n",
       "      <td>42</td>\n",
       "      <td>Tatiana</td>\n",
       "      <td>Paleckis</td>\n",
       "      <td>tati_paleckis@hotmail.com</td>\n",
       "    </tr>\n",
       "    <tr>\n",
       "      <th>4</th>\n",
       "      <td>45</td>\n",
       "      <td>Paula</td>\n",
       "      <td>Guz</td>\n",
       "      <td>paulagguz@gmail.com</td>\n",
       "    </tr>\n",
       "  </tbody>\n",
       "</table>\n",
       "</div>"
      ],
      "text/plain": [
       "   id first_name last_name                       email\n",
       "0   7     Sergio    Freire  sergiohenriquefp@gmail.com\n",
       "1  33       Sara   Reinert    sara.reinert@hotmail.com\n",
       "2  34      Júlia     Neves       jr_neves3@hotmail.com\n",
       "3  42    Tatiana  Paleckis   tati_paleckis@hotmail.com\n",
       "4  45      Paula       Guz         paulagguz@gmail.com"
      ]
     },
     "execution_count": 19,
     "metadata": {},
     "output_type": "execute_result"
    }
   ],
   "source": [
    "users = pd.read_sql_query(\"SELECT id, first_name, last_name, email from users;\",source_db)\n",
    "users.head()"
   ]
  },
  {
   "cell_type": "code",
   "execution_count": 20,
   "metadata": {
    "collapsed": false
   },
   "outputs": [
    {
     "data": {
      "text/plain": [
       "(10219, 4)"
      ]
     },
     "execution_count": 20,
     "metadata": {},
     "output_type": "execute_result"
    }
   ],
   "source": [
    "users.shape"
   ]
  },
  {
   "cell_type": "markdown",
   "metadata": {},
   "source": [
    "So we can see so far there are 5033 consumers to sign up BeHoppy."
   ]
  },
  {
   "cell_type": "markdown",
   "metadata": {},
   "source": [
    "## **B. Construct Vector Space Model**\n",
    "\n",
    "Here we define the vector space model, where each feature is a dimenion. There are 173 fetures with dummy variables, so the vector space is 173-dimensional."
   ]
  },
  {
   "cell_type": "code",
   "execution_count": 28,
   "metadata": {
    "collapsed": false
   },
   "outputs": [],
   "source": [
    "def build_beers_vector_space(beers_df, beta=0.5):\n",
    "    '''this method considers loading data directly from pandas daatframe. Note that in this way             \n",
    "       the first column is the beer-id, and no dataframes' column names will be loaded.\n",
    "       return:\n",
    "            vectorSpace[beer] = [attribute1, att2, att3,......]\n",
    "       '''\n",
    "    vectorSpace = {}\n",
    "    irow =0\n",
    "    for line in beers_df.values:\n",
    "        irow += 1\n",
    "        line = tuple(line)\n",
    "        beer_id = int(line[0])\n",
    "        #if irow < 10:\n",
    "        if irow >0:\n",
    "            if beer_id not in vectorSpace:\n",
    "                '''line[0] is beer-id, line[1] is the average_ratings which is redundant. \n",
    "                   line[2] is the number_of_ratings.... collect features from line[2]\n",
    "                '''\n",
    "                vectorSpace[beer_id] = np.asarray([float(line[i]) for i in range(2, len(line))])\n",
    "                ''' the following is doing mean-normalized, feature = (feature-mean)/std\n",
    "                    v[0]: num_of_ratings, v[1]:avg_aroma, v[2]:avg_appearance, \n",
    "                    v[3]:avg_taste, v[4]:avg_body\n",
    "                '''\n",
    "                vectorSpace[beer_id][0] = (vectorSpace[beer_id][0]-avg_features[0])/std_features[0] \n",
    "                vectorSpace[beer_id][1] = (vectorSpace[beer_id][1]-avg_features[1])/std_features[1]\n",
    "                vectorSpace[beer_id][2] = (vectorSpace[beer_id][2]-avg_features[2])/std_features[2]\n",
    "                vectorSpace[beer_id][3] = (vectorSpace[beer_id][3]-avg_features[3])/std_features[3]\n",
    "                vectorSpace[beer_id][4] = (vectorSpace[beer_id][4]-avg_features[4])/std_features[4]\n",
    "\n",
    "    '''normalize the vectors'''\n",
    "    for beer in vectorSpace:\n",
    "        v1 = np.asarray(vectorSpace[beer])\n",
    "        v1 = v1/np.linalg.norm(v1)\n",
    "        vectorSpace[beer] = v1\n",
    "            \n",
    "                \n",
    "    return vectorSpace\n",
    "\n",
    "vectorSpace = build_beers_vector_space(beers)"
   ]
  },
  {
   "cell_type": "markdown",
   "metadata": {},
   "source": [
    "By running the function, each beer is represented in terms of a vector of the space. For example, **beer-id = 5** has the feature: (aroma_rating, appearance_rating, taste_rating, bidy_rating, country_A, country_B.... )"
   ]
  },
  {
   "cell_type": "code",
   "execution_count": 24,
   "metadata": {
    "collapsed": false
   },
   "outputs": [
    {
     "name": "stdout",
     "output_type": "stream",
     "text": [
      "[  1.24763067e+01  -2.09845294e-02   1.20877432e-01   1.30178753e-01\n",
      "   1.10952344e-02   0.00000000e+00   0.00000000e+00   0.00000000e+00\n",
      "   0.00000000e+00   0.00000000e+00   1.00000000e+00   0.00000000e+00\n",
      "   0.00000000e+00   0.00000000e+00   0.00000000e+00   0.00000000e+00\n",
      "   0.00000000e+00   0.00000000e+00   0.00000000e+00   0.00000000e+00\n",
      "   0.00000000e+00   0.00000000e+00   0.00000000e+00   0.00000000e+00\n",
      "   0.00000000e+00   0.00000000e+00   0.00000000e+00   0.00000000e+00\n",
      "   0.00000000e+00   0.00000000e+00   0.00000000e+00   0.00000000e+00\n",
      "   0.00000000e+00   0.00000000e+00   0.00000000e+00   0.00000000e+00\n",
      "   0.00000000e+00   0.00000000e+00   0.00000000e+00   0.00000000e+00\n",
      "   0.00000000e+00   0.00000000e+00   0.00000000e+00   0.00000000e+00\n",
      "   0.00000000e+00   0.00000000e+00   0.00000000e+00   0.00000000e+00\n",
      "   0.00000000e+00   0.00000000e+00   0.00000000e+00   0.00000000e+00\n",
      "   0.00000000e+00   0.00000000e+00   0.00000000e+00   0.00000000e+00\n",
      "   0.00000000e+00   1.00000000e+00   0.00000000e+00   0.00000000e+00\n",
      "   0.00000000e+00   0.00000000e+00   0.00000000e+00   0.00000000e+00\n",
      "   0.00000000e+00   0.00000000e+00   0.00000000e+00   0.00000000e+00\n",
      "   0.00000000e+00   0.00000000e+00   0.00000000e+00   0.00000000e+00\n",
      "   0.00000000e+00   0.00000000e+00   0.00000000e+00   0.00000000e+00\n",
      "   0.00000000e+00   0.00000000e+00   0.00000000e+00   0.00000000e+00\n",
      "   0.00000000e+00   0.00000000e+00   0.00000000e+00   0.00000000e+00\n",
      "   0.00000000e+00   0.00000000e+00   0.00000000e+00   0.00000000e+00\n",
      "   0.00000000e+00   0.00000000e+00   0.00000000e+00   0.00000000e+00\n",
      "   0.00000000e+00   0.00000000e+00   0.00000000e+00   0.00000000e+00\n",
      "   0.00000000e+00   0.00000000e+00   0.00000000e+00   0.00000000e+00\n",
      "   0.00000000e+00   0.00000000e+00   0.00000000e+00   0.00000000e+00\n",
      "   0.00000000e+00   0.00000000e+00   0.00000000e+00   0.00000000e+00\n",
      "   0.00000000e+00   0.00000000e+00   0.00000000e+00   0.00000000e+00\n",
      "   0.00000000e+00   0.00000000e+00   0.00000000e+00   0.00000000e+00\n",
      "   0.00000000e+00   0.00000000e+00   0.00000000e+00   0.00000000e+00\n",
      "   0.00000000e+00   0.00000000e+00   0.00000000e+00   0.00000000e+00\n",
      "   0.00000000e+00   0.00000000e+00   0.00000000e+00   0.00000000e+00\n",
      "   0.00000000e+00   0.00000000e+00   0.00000000e+00   0.00000000e+00\n",
      "   0.00000000e+00   0.00000000e+00   0.00000000e+00   0.00000000e+00\n",
      "   0.00000000e+00   0.00000000e+00   0.00000000e+00   0.00000000e+00\n",
      "   0.00000000e+00   0.00000000e+00   0.00000000e+00   0.00000000e+00\n",
      "   0.00000000e+00   0.00000000e+00   0.00000000e+00   0.00000000e+00\n",
      "   0.00000000e+00   0.00000000e+00   0.00000000e+00   0.00000000e+00\n",
      "   0.00000000e+00   0.00000000e+00   0.00000000e+00   0.00000000e+00\n",
      "   0.00000000e+00   0.00000000e+00   0.00000000e+00   0.00000000e+00\n",
      "   0.00000000e+00   0.00000000e+00   0.00000000e+00   0.00000000e+00\n",
      "   0.00000000e+00   0.00000000e+00   0.00000000e+00   0.00000000e+00\n",
      "   0.00000000e+00   0.00000000e+00   0.00000000e+00   0.00000000e+00\n",
      "   1.00000000e+00   0.00000000e+00   0.00000000e+00   0.00000000e+00\n",
      "   0.00000000e+00   0.00000000e+00   0.00000000e+00   0.00000000e+00\n",
      "   0.00000000e+00   0.00000000e+00   0.00000000e+00   0.00000000e+00\n",
      "   0.00000000e+00   0.00000000e+00   0.00000000e+00   0.00000000e+00\n",
      "   0.00000000e+00   0.00000000e+00   0.00000000e+00   0.00000000e+00\n",
      "   0.00000000e+00   0.00000000e+00   0.00000000e+00   0.00000000e+00\n",
      "   0.00000000e+00   0.00000000e+00   0.00000000e+00   0.00000000e+00\n",
      "   0.00000000e+00   0.00000000e+00   0.00000000e+00   0.00000000e+00\n",
      "   0.00000000e+00   0.00000000e+00   0.00000000e+00   0.00000000e+00\n",
      "   0.00000000e+00   0.00000000e+00   0.00000000e+00   0.00000000e+00\n",
      "   0.00000000e+00   0.00000000e+00   0.00000000e+00   0.00000000e+00\n",
      "   0.00000000e+00   0.00000000e+00]\n"
     ]
    }
   ],
   "source": [
    "print (vectorSpace[5])"
   ]
  },
  {
   "cell_type": "markdown",
   "metadata": {},
   "source": [
    "### **Dimensionality of the vector space (number of attributes of each beer)**"
   ]
  },
  {
   "cell_type": "code",
   "execution_count": 25,
   "metadata": {
    "collapsed": false
   },
   "outputs": [
    {
     "data": {
      "text/plain": [
       "218"
      ]
     },
     "execution_count": 25,
     "metadata": {},
     "output_type": "execute_result"
    }
   ],
   "source": [
    "len(vectorSpace[5])"
   ]
  },
  {
   "cell_type": "markdown",
   "metadata": {},
   "source": [
    "### **Number of rated beers (vectors) in the vector space**"
   ]
  },
  {
   "cell_type": "code",
   "execution_count": 26,
   "metadata": {
    "collapsed": false
   },
   "outputs": [
    {
     "data": {
      "text/plain": [
       "2973"
      ]
     },
     "execution_count": 26,
     "metadata": {},
     "output_type": "execute_result"
    }
   ],
   "source": [
    "len(vectorSpace)"
   ]
  },
  {
   "cell_type": "markdown",
   "metadata": {},
   "source": [
    "Note that here we implemented the dummy variables, so the vectors looks sparse (only if country=country_A, =1; otherwise =0)."
   ]
  },
  {
   "cell_type": "markdown",
   "metadata": {},
   "source": [
    "## **C. Beer-Beer Recommendation**"
   ]
  },
  {
   "cell_type": "markdown",
   "metadata": {},
   "source": [
    "### **Cosine distance similarity**\n",
    "\n",
    "Here I used the cosine function to define similarity scores, **cosine distance** = (a/|a|-b/|b|)^2. Each beer is a vector in the vector space model, so we can compute cosine to see the similarity between beer-a and beer-b."
   ]
  },
  {
   "cell_type": "code",
   "execution_count": 29,
   "metadata": {
    "collapsed": true
   },
   "outputs": [],
   "source": [
    "def cosine(a,b):\n",
    "    return 2.0*(1.0-np.dot(a,b.T))#/np.linalg.norm(a)/np.linalg.norm(b))"
   ]
  },
  {
   "cell_type": "code",
   "execution_count": 30,
   "metadata": {
    "collapsed": false
   },
   "outputs": [],
   "source": [
    "def similarity():\n",
    "    '''compute the cosine distance similarity of all paired beer and load the similarity                          \n",
    "       scores in the SQL database, \"similarity\" table\n",
    "       return:\n",
    "           cosineSim[beer_i] = [(beer_1, si1), (beer_2, si2), (beer_3, si3)...]\n",
    "    '''\n",
    "    cosineSim = {}\n",
    "    for a in vectorSpace:\n",
    "        vector_a = vectorSpace[a]\n",
    "        cosineSim[a] = []\n",
    "        for b in vectorSpace:\n",
    "            vector_b = vectorSpace[b]\n",
    "            cosineSim[a].append((b, cosine(vector_a, vector_b)))\n",
    "        x = cosineSim[a]\n",
    "        x.sort(key=lambda tup: tup[1])\n",
    "        cosineSim[a] = x\n",
    "    \n",
    "    return cosineSim\n",
    "\n",
    "    with local_db:\n",
    "        cur = local_db.cursor()\n",
    "        cur.execute(\"DELETE FROM similarity;\")\n",
    "        for beerId1 in cosineSim:\n",
    "            for beerId2, score in cosineSim[beerId1]:\n",
    "                query = (\"INSERT INTO similarity \"\n",
    "                         \"(beer1, beer2, score) \"\n",
    "                         \"VALUES (%(beer1)s, %(beer2)s, %(score)s);\")\n",
    "                query_add = {'beer1': beerId1, 'beer2': beerId2, 'score': float(score)}\n",
    "                cur.execute(query, query_add)\n",
    "        cur.fetchall()\n",
    "    \n",
    "    return cosineSim\n",
    "\n",
    "cosineSim = similarity()"
   ]
  },
  {
   "cell_type": "markdown",
   "metadata": {},
   "source": [
    "The following shows the ordered cosine similarity between **beer-5** and others. So **beer-112** is most similar beer to the **beer-5**, and then **beer-7**.... If a consumer likes **beer-10**, then next time we can recommend **beer-112**, **beer-7**, **beer-10**... to the consumer. In other words, here we have **beer-beer recommendation**.\n",
    "Of course, the rank will be dependent of the weights between the number_of_ratings, rating_scores, and the dummy variables."
   ]
  },
  {
   "cell_type": "markdown",
   "metadata": {},
   "source": [
    "### **Beer-Beer recommendatio UI**"
   ]
  },
  {
   "cell_type": "markdown",
   "metadata": {},
   "source": [
    "### **Beers similar to beer-5**"
   ]
  },
  {
   "cell_type": "code",
   "execution_count": 31,
   "metadata": {
    "collapsed": false
   },
   "outputs": [
    {
     "data": {
      "text/plain": [
       "[(5, 0.0),\n",
       " (112, 0.011056594853160906),\n",
       " (10, 0.024997502274571426),\n",
       " (7, 0.025941778973254337),\n",
       " (77, 0.027170262017177649),\n",
       " (9, 0.029002684462917649),\n",
       " (4818, 0.043441947721272189),\n",
       " (69, 0.046810247690564744),\n",
       " (8, 0.053630756777816257),\n",
       " (11, 0.059607889978050776)]"
      ]
     },
     "execution_count": 31,
     "metadata": {},
     "output_type": "execute_result"
    }
   ],
   "source": [
    "cosineSim[5][:10]"
   ]
  },
  {
   "cell_type": "markdown",
   "metadata": {},
   "source": [
    "Of course, we have loaded the similarity in the database, we can also query:"
   ]
  },
  {
   "cell_type": "code",
   "execution_count": 32,
   "metadata": {
    "collapsed": false
   },
   "outputs": [
    {
     "data": {
      "text/html": [
       "<div>\n",
       "<table border=\"1\" class=\"dataframe\">\n",
       "  <thead>\n",
       "    <tr style=\"text-align: right;\">\n",
       "      <th></th>\n",
       "      <th>beer2</th>\n",
       "    </tr>\n",
       "  </thead>\n",
       "  <tbody>\n",
       "    <tr>\n",
       "      <th>0</th>\n",
       "      <td>5</td>\n",
       "    </tr>\n",
       "    <tr>\n",
       "      <th>1</th>\n",
       "      <td>112</td>\n",
       "    </tr>\n",
       "    <tr>\n",
       "      <th>2</th>\n",
       "      <td>10</td>\n",
       "    </tr>\n",
       "    <tr>\n",
       "      <th>3</th>\n",
       "      <td>7</td>\n",
       "    </tr>\n",
       "    <tr>\n",
       "      <th>4</th>\n",
       "      <td>77</td>\n",
       "    </tr>\n",
       "  </tbody>\n",
       "</table>\n",
       "</div>"
      ],
      "text/plain": [
       "   beer2\n",
       "0      5\n",
       "1    112\n",
       "2     10\n",
       "3      7\n",
       "4     77"
      ]
     },
     "execution_count": 32,
     "metadata": {},
     "output_type": "execute_result"
    }
   ],
   "source": [
    "beer5_recommend = pd.read_sql_query(\"SELECT beer2 from similarity where beer1 = 5 limit 10;\", local_db)\n",
    "beer5_recommend.head()"
   ]
  },
  {
   "cell_type": "markdown",
   "metadata": {},
   "source": [
    "### **Beers similar to beer-10**\n",
    "\n",
    "For **beer-10**, we can recommend similar beers:"
   ]
  },
  {
   "cell_type": "code",
   "execution_count": 33,
   "metadata": {
    "collapsed": false
   },
   "outputs": [
    {
     "data": {
      "text/plain": [
       "[(10, -4.4408920985006262e-16),\n",
       " (5, 0.024997502274571426),\n",
       " (112, 0.026614350773239481),\n",
       " (7, 0.026966197461723018),\n",
       " (6, 0.031542020344071275),\n",
       " (11, 0.031602143182132503),\n",
       " (32, 0.032094908716503001),\n",
       " (9, 0.035032634412866859),\n",
       " (8, 0.04357060485980857),\n",
       " (77, 0.063673940349977087)]"
      ]
     },
     "execution_count": 33,
     "metadata": {},
     "output_type": "execute_result"
    }
   ],
   "source": [
    "cosineSim[10][:10]"
   ]
  },
  {
   "cell_type": "code",
   "execution_count": 34,
   "metadata": {
    "collapsed": false,
    "scrolled": true
   },
   "outputs": [
    {
     "data": {
      "text/html": [
       "<div>\n",
       "<table border=\"1\" class=\"dataframe\">\n",
       "  <thead>\n",
       "    <tr style=\"text-align: right;\">\n",
       "      <th></th>\n",
       "      <th>beer2</th>\n",
       "    </tr>\n",
       "  </thead>\n",
       "  <tbody>\n",
       "    <tr>\n",
       "      <th>0</th>\n",
       "      <td>10</td>\n",
       "    </tr>\n",
       "    <tr>\n",
       "      <th>1</th>\n",
       "      <td>5</td>\n",
       "    </tr>\n",
       "    <tr>\n",
       "      <th>2</th>\n",
       "      <td>7</td>\n",
       "    </tr>\n",
       "    <tr>\n",
       "      <th>3</th>\n",
       "      <td>112</td>\n",
       "    </tr>\n",
       "    <tr>\n",
       "      <th>4</th>\n",
       "      <td>11</td>\n",
       "    </tr>\n",
       "  </tbody>\n",
       "</table>\n",
       "</div>"
      ],
      "text/plain": [
       "   beer2\n",
       "0     10\n",
       "1      5\n",
       "2      7\n",
       "3    112\n",
       "4     11"
      ]
     },
     "execution_count": 34,
     "metadata": {},
     "output_type": "execute_result"
    }
   ],
   "source": [
    "beer10_recommend = pd.read_sql_query(\"SELECT beer2 from similarity where beer1 = 10 limit 10;\", local_db)\n",
    "beer10_recommend.head()"
   ]
  },
  {
   "cell_type": "markdown",
   "metadata": {},
   "source": [
    "## **D. Visualize similar beers**"
   ]
  },
  {
   "cell_type": "code",
   "execution_count": 9,
   "metadata": {
    "collapsed": false,
    "scrolled": true
   },
   "outputs": [
    {
     "data": {
      "text/html": [
       "<div>\n",
       "<table border=\"1\" class=\"dataframe\">\n",
       "  <thead>\n",
       "    <tr style=\"text-align: right;\">\n",
       "      <th></th>\n",
       "      <th>id</th>\n",
       "      <th>average_rating</th>\n",
       "      <th>number_of_ratings</th>\n",
       "      <th>average_aroma_rating</th>\n",
       "      <th>average_appearance_rating</th>\n",
       "      <th>average_taste_rating</th>\n",
       "      <th>average_body_rating</th>\n",
       "      <th>country_---</th>\n",
       "      <th>country_ABW</th>\n",
       "      <th>country_AGO</th>\n",
       "      <th>...</th>\n",
       "      <th>style_Standard American Lager</th>\n",
       "      <th>style_Steam Beer</th>\n",
       "      <th>style_Sweet Stout</th>\n",
       "      <th>style_Vienna Lager</th>\n",
       "      <th>style_Weiss</th>\n",
       "      <th>style_Weizen / Weissbier</th>\n",
       "      <th>style_Weizen Doppelbock</th>\n",
       "      <th>style_Wheat Beer</th>\n",
       "      <th>style_Wood Aged Beer</th>\n",
       "      <th>style_Zwickelbier Ale</th>\n",
       "    </tr>\n",
       "  </thead>\n",
       "  <tbody>\n",
       "    <tr>\n",
       "      <th>0</th>\n",
       "      <td>5</td>\n",
       "      <td>3.76380</td>\n",
       "      <td>652</td>\n",
       "      <td>3.49053</td>\n",
       "      <td>3.73823</td>\n",
       "      <td>3.70755</td>\n",
       "      <td>3.42045</td>\n",
       "      <td>0</td>\n",
       "      <td>0</td>\n",
       "      <td>0</td>\n",
       "      <td>...</td>\n",
       "      <td>0</td>\n",
       "      <td>0</td>\n",
       "      <td>0</td>\n",
       "      <td>0</td>\n",
       "      <td>0</td>\n",
       "      <td>0</td>\n",
       "      <td>0</td>\n",
       "      <td>0</td>\n",
       "      <td>0</td>\n",
       "      <td>0</td>\n",
       "    </tr>\n",
       "    <tr>\n",
       "      <th>1</th>\n",
       "      <td>6</td>\n",
       "      <td>4.18735</td>\n",
       "      <td>427</td>\n",
       "      <td>4.11634</td>\n",
       "      <td>4.17808</td>\n",
       "      <td>4.23014</td>\n",
       "      <td>4.04121</td>\n",
       "      <td>0</td>\n",
       "      <td>0</td>\n",
       "      <td>0</td>\n",
       "      <td>...</td>\n",
       "      <td>0</td>\n",
       "      <td>0</td>\n",
       "      <td>0</td>\n",
       "      <td>0</td>\n",
       "      <td>0</td>\n",
       "      <td>0</td>\n",
       "      <td>0</td>\n",
       "      <td>0</td>\n",
       "      <td>0</td>\n",
       "      <td>0</td>\n",
       "    </tr>\n",
       "    <tr>\n",
       "      <th>2</th>\n",
       "      <td>7</td>\n",
       "      <td>3.81417</td>\n",
       "      <td>635</td>\n",
       "      <td>3.41279</td>\n",
       "      <td>3.80583</td>\n",
       "      <td>3.70986</td>\n",
       "      <td>3.32879</td>\n",
       "      <td>0</td>\n",
       "      <td>0</td>\n",
       "      <td>0</td>\n",
       "      <td>...</td>\n",
       "      <td>0</td>\n",
       "      <td>0</td>\n",
       "      <td>0</td>\n",
       "      <td>0</td>\n",
       "      <td>0</td>\n",
       "      <td>0</td>\n",
       "      <td>0</td>\n",
       "      <td>0</td>\n",
       "      <td>0</td>\n",
       "      <td>0</td>\n",
       "    </tr>\n",
       "    <tr>\n",
       "      <th>3</th>\n",
       "      <td>8</td>\n",
       "      <td>3.71107</td>\n",
       "      <td>488</td>\n",
       "      <td>3.17829</td>\n",
       "      <td>3.41237</td>\n",
       "      <td>3.59278</td>\n",
       "      <td>3.15762</td>\n",
       "      <td>0</td>\n",
       "      <td>0</td>\n",
       "      <td>0</td>\n",
       "      <td>...</td>\n",
       "      <td>0</td>\n",
       "      <td>0</td>\n",
       "      <td>0</td>\n",
       "      <td>0</td>\n",
       "      <td>0</td>\n",
       "      <td>0</td>\n",
       "      <td>0</td>\n",
       "      <td>0</td>\n",
       "      <td>0</td>\n",
       "      <td>0</td>\n",
       "    </tr>\n",
       "    <tr>\n",
       "      <th>4</th>\n",
       "      <td>9</td>\n",
       "      <td>3.55008</td>\n",
       "      <td>629</td>\n",
       "      <td>3.19721</td>\n",
       "      <td>3.40278</td>\n",
       "      <td>3.48708</td>\n",
       "      <td>3.09562</td>\n",
       "      <td>0</td>\n",
       "      <td>0</td>\n",
       "      <td>0</td>\n",
       "      <td>...</td>\n",
       "      <td>0</td>\n",
       "      <td>0</td>\n",
       "      <td>0</td>\n",
       "      <td>0</td>\n",
       "      <td>0</td>\n",
       "      <td>0</td>\n",
       "      <td>0</td>\n",
       "      <td>0</td>\n",
       "      <td>0</td>\n",
       "      <td>0</td>\n",
       "    </tr>\n",
       "  </tbody>\n",
       "</table>\n",
       "<p>5 rows × 234 columns</p>\n",
       "</div>"
      ],
      "text/plain": [
       "   id  average_rating  number_of_ratings  average_aroma_rating  \\\n",
       "0   5         3.76380                652               3.49053   \n",
       "1   6         4.18735                427               4.11634   \n",
       "2   7         3.81417                635               3.41279   \n",
       "3   8         3.71107                488               3.17829   \n",
       "4   9         3.55008                629               3.19721   \n",
       "\n",
       "   average_appearance_rating  average_taste_rating  average_body_rating  \\\n",
       "0                    3.73823               3.70755              3.42045   \n",
       "1                    4.17808               4.23014              4.04121   \n",
       "2                    3.80583               3.70986              3.32879   \n",
       "3                    3.41237               3.59278              3.15762   \n",
       "4                    3.40278               3.48708              3.09562   \n",
       "\n",
       "   country_---  country_ABW  country_AGO          ...            \\\n",
       "0            0            0            0          ...             \n",
       "1            0            0            0          ...             \n",
       "2            0            0            0          ...             \n",
       "3            0            0            0          ...             \n",
       "4            0            0            0          ...             \n",
       "\n",
       "   style_Standard American Lager  style_Steam Beer  style_Sweet Stout  \\\n",
       "0                              0                 0                  0   \n",
       "1                              0                 0                  0   \n",
       "2                              0                 0                  0   \n",
       "3                              0                 0                  0   \n",
       "4                              0                 0                  0   \n",
       "\n",
       "   style_Vienna Lager  style_Weiss  style_Weizen / Weissbier  \\\n",
       "0                   0            0                         0   \n",
       "1                   0            0                         0   \n",
       "2                   0            0                         0   \n",
       "3                   0            0                         0   \n",
       "4                   0            0                         0   \n",
       "\n",
       "   style_Weizen Doppelbock  style_Wheat Beer  style_Wood Aged Beer  \\\n",
       "0                        0                 0                     0   \n",
       "1                        0                 0                     0   \n",
       "2                        0                 0                     0   \n",
       "3                        0                 0                     0   \n",
       "4                        0                 0                     0   \n",
       "\n",
       "   style_Zwickelbier Ale  \n",
       "0                      0  \n",
       "1                      0  \n",
       "2                      0  \n",
       "3                      0  \n",
       "4                      0  \n",
       "\n",
       "[5 rows x 234 columns]"
      ]
     },
     "execution_count": 9,
     "metadata": {},
     "output_type": "execute_result"
    }
   ],
   "source": [
    "beers.head()"
   ]
  },
  {
   "cell_type": "markdown",
   "metadata": {},
   "source": [
    "Remove the columns **id** and **average_rating** which are not going to use in PCA (**average_rating** is redundant since it is linear combination of **average_aroma_rating**,  **average_appearance_rating**, **average_taste_rating** and **average_body_rating**.)"
   ]
  },
  {
   "cell_type": "code",
   "execution_count": 10,
   "metadata": {
    "collapsed": false
   },
   "outputs": [
    {
     "data": {
      "text/html": [
       "<div>\n",
       "<table border=\"1\" class=\"dataframe\">\n",
       "  <thead>\n",
       "    <tr style=\"text-align: right;\">\n",
       "      <th></th>\n",
       "      <th>number_of_ratings</th>\n",
       "      <th>average_aroma_rating</th>\n",
       "      <th>average_appearance_rating</th>\n",
       "      <th>average_taste_rating</th>\n",
       "      <th>average_body_rating</th>\n",
       "      <th>country_---</th>\n",
       "      <th>country_ABW</th>\n",
       "      <th>country_AGO</th>\n",
       "      <th>country_ARG</th>\n",
       "      <th>country_AUS</th>\n",
       "      <th>...</th>\n",
       "      <th>style_Standard American Lager</th>\n",
       "      <th>style_Steam Beer</th>\n",
       "      <th>style_Sweet Stout</th>\n",
       "      <th>style_Vienna Lager</th>\n",
       "      <th>style_Weiss</th>\n",
       "      <th>style_Weizen / Weissbier</th>\n",
       "      <th>style_Weizen Doppelbock</th>\n",
       "      <th>style_Wheat Beer</th>\n",
       "      <th>style_Wood Aged Beer</th>\n",
       "      <th>style_Zwickelbier Ale</th>\n",
       "    </tr>\n",
       "  </thead>\n",
       "  <tbody>\n",
       "    <tr>\n",
       "      <th>0</th>\n",
       "      <td>652</td>\n",
       "      <td>3.49053</td>\n",
       "      <td>3.73823</td>\n",
       "      <td>3.70755</td>\n",
       "      <td>3.42045</td>\n",
       "      <td>0</td>\n",
       "      <td>0</td>\n",
       "      <td>0</td>\n",
       "      <td>0</td>\n",
       "      <td>0</td>\n",
       "      <td>...</td>\n",
       "      <td>0</td>\n",
       "      <td>0</td>\n",
       "      <td>0</td>\n",
       "      <td>0</td>\n",
       "      <td>0</td>\n",
       "      <td>0</td>\n",
       "      <td>0</td>\n",
       "      <td>0</td>\n",
       "      <td>0</td>\n",
       "      <td>0</td>\n",
       "    </tr>\n",
       "    <tr>\n",
       "      <th>1</th>\n",
       "      <td>427</td>\n",
       "      <td>4.11634</td>\n",
       "      <td>4.17808</td>\n",
       "      <td>4.23014</td>\n",
       "      <td>4.04121</td>\n",
       "      <td>0</td>\n",
       "      <td>0</td>\n",
       "      <td>0</td>\n",
       "      <td>0</td>\n",
       "      <td>0</td>\n",
       "      <td>...</td>\n",
       "      <td>0</td>\n",
       "      <td>0</td>\n",
       "      <td>0</td>\n",
       "      <td>0</td>\n",
       "      <td>0</td>\n",
       "      <td>0</td>\n",
       "      <td>0</td>\n",
       "      <td>0</td>\n",
       "      <td>0</td>\n",
       "      <td>0</td>\n",
       "    </tr>\n",
       "    <tr>\n",
       "      <th>2</th>\n",
       "      <td>635</td>\n",
       "      <td>3.41279</td>\n",
       "      <td>3.80583</td>\n",
       "      <td>3.70986</td>\n",
       "      <td>3.32879</td>\n",
       "      <td>0</td>\n",
       "      <td>0</td>\n",
       "      <td>0</td>\n",
       "      <td>0</td>\n",
       "      <td>0</td>\n",
       "      <td>...</td>\n",
       "      <td>0</td>\n",
       "      <td>0</td>\n",
       "      <td>0</td>\n",
       "      <td>0</td>\n",
       "      <td>0</td>\n",
       "      <td>0</td>\n",
       "      <td>0</td>\n",
       "      <td>0</td>\n",
       "      <td>0</td>\n",
       "      <td>0</td>\n",
       "    </tr>\n",
       "    <tr>\n",
       "      <th>3</th>\n",
       "      <td>488</td>\n",
       "      <td>3.17829</td>\n",
       "      <td>3.41237</td>\n",
       "      <td>3.59278</td>\n",
       "      <td>3.15762</td>\n",
       "      <td>0</td>\n",
       "      <td>0</td>\n",
       "      <td>0</td>\n",
       "      <td>0</td>\n",
       "      <td>0</td>\n",
       "      <td>...</td>\n",
       "      <td>0</td>\n",
       "      <td>0</td>\n",
       "      <td>0</td>\n",
       "      <td>0</td>\n",
       "      <td>0</td>\n",
       "      <td>0</td>\n",
       "      <td>0</td>\n",
       "      <td>0</td>\n",
       "      <td>0</td>\n",
       "      <td>0</td>\n",
       "    </tr>\n",
       "    <tr>\n",
       "      <th>4</th>\n",
       "      <td>629</td>\n",
       "      <td>3.19721</td>\n",
       "      <td>3.40278</td>\n",
       "      <td>3.48708</td>\n",
       "      <td>3.09562</td>\n",
       "      <td>0</td>\n",
       "      <td>0</td>\n",
       "      <td>0</td>\n",
       "      <td>0</td>\n",
       "      <td>0</td>\n",
       "      <td>...</td>\n",
       "      <td>0</td>\n",
       "      <td>0</td>\n",
       "      <td>0</td>\n",
       "      <td>0</td>\n",
       "      <td>0</td>\n",
       "      <td>0</td>\n",
       "      <td>0</td>\n",
       "      <td>0</td>\n",
       "      <td>0</td>\n",
       "      <td>0</td>\n",
       "    </tr>\n",
       "  </tbody>\n",
       "</table>\n",
       "<p>5 rows × 232 columns</p>\n",
       "</div>"
      ],
      "text/plain": [
       "   number_of_ratings  average_aroma_rating  average_appearance_rating  \\\n",
       "0                652               3.49053                    3.73823   \n",
       "1                427               4.11634                    4.17808   \n",
       "2                635               3.41279                    3.80583   \n",
       "3                488               3.17829                    3.41237   \n",
       "4                629               3.19721                    3.40278   \n",
       "\n",
       "   average_taste_rating  average_body_rating  country_---  country_ABW  \\\n",
       "0               3.70755              3.42045            0            0   \n",
       "1               4.23014              4.04121            0            0   \n",
       "2               3.70986              3.32879            0            0   \n",
       "3               3.59278              3.15762            0            0   \n",
       "4               3.48708              3.09562            0            0   \n",
       "\n",
       "   country_AGO  country_ARG  country_AUS          ...            \\\n",
       "0            0            0            0          ...             \n",
       "1            0            0            0          ...             \n",
       "2            0            0            0          ...             \n",
       "3            0            0            0          ...             \n",
       "4            0            0            0          ...             \n",
       "\n",
       "   style_Standard American Lager  style_Steam Beer  style_Sweet Stout  \\\n",
       "0                              0                 0                  0   \n",
       "1                              0                 0                  0   \n",
       "2                              0                 0                  0   \n",
       "3                              0                 0                  0   \n",
       "4                              0                 0                  0   \n",
       "\n",
       "   style_Vienna Lager  style_Weiss  style_Weizen / Weissbier  \\\n",
       "0                   0            0                         0   \n",
       "1                   0            0                         0   \n",
       "2                   0            0                         0   \n",
       "3                   0            0                         0   \n",
       "4                   0            0                         0   \n",
       "\n",
       "   style_Weizen Doppelbock  style_Wheat Beer  style_Wood Aged Beer  \\\n",
       "0                        0                 0                     0   \n",
       "1                        0                 0                     0   \n",
       "2                        0                 0                     0   \n",
       "3                        0                 0                     0   \n",
       "4                        0                 0                     0   \n",
       "\n",
       "   style_Zwickelbier Ale  \n",
       "0                      0  \n",
       "1                      0  \n",
       "2                      0  \n",
       "3                      0  \n",
       "4                      0  \n",
       "\n",
       "[5 rows x 232 columns]"
      ]
     },
     "execution_count": 10,
     "metadata": {},
     "output_type": "execute_result"
    }
   ],
   "source": [
    "beersPCA = beers.drop(labels=['id', 'average_rating'], axis=1, inplace=False)\n",
    "beersPCA.head()"
   ]
  },
  {
   "cell_type": "markdown",
   "metadata": {},
   "source": [
    "### **Dimensionality reduction to a 2-dimensional space**\n",
    "\n",
    "### **The process is called principal-component-analysis (PCA)**"
   ]
  },
  {
   "cell_type": "code",
   "execution_count": 16,
   "metadata": {
    "collapsed": false
   },
   "outputs": [
    {
     "name": "stdout",
     "output_type": "stream",
     "text": [
      "[ 0.9969571   0.00196904]\n"
     ]
    }
   ],
   "source": [
    "from sklearn.decomposition import PCA\n",
    "pca = PCA(n_components=2)\n",
    "X_r = pca.fit(beersPCA).transform(beersPCA)\n",
    "print (pca.explained_variance_ratio_)"
   ]
  },
  {
   "cell_type": "code",
   "execution_count": 17,
   "metadata": {
    "collapsed": false
   },
   "outputs": [
    {
     "name": "stderr",
     "output_type": "stream",
     "text": [
      "/Users/hhhung/anaconda/lib/python3.4/site-packages/matplotlib/collections.py:590: FutureWarning: elementwise comparison failed; returning scalar instead, but in the future will perform elementwise comparison\n",
      "  if self._edgecolors == str('face'):\n"
     ]
    },
    {
     "data": {
      "image/png": "[encoded data removed]",
      "text/plain": [
       "<matplotlib.figure.Figure at 0x1140b4828>"
      ]
     },
     "metadata": {},
     "output_type": "display_data"
    }
   ],
   "source": [
    "import matplotlib.pyplot as plt\n",
    "%matplotlib inline\n",
    "x1 = X_r[:,0].tolist()\n",
    "x2 = X_r[:,1].tolist()\n",
    "\n",
    "fig, ax = plt.subplots(figsize = (6,4))\n",
    "\n",
    "ax.scatter(x1, x2, s=70, marker=(5, 0), cmap=plt.cm.cool, linewidths=0, alpha=0.7)\n",
    "ax.set_xlabel('principal-1', size=20)\n",
    "ax.set_ylabel('principal-2', size=20)\n",
    "ax.set_title('PCA', size=20)\n",
    "plt.show()"
   ]
  },
  {
   "cell_type": "code",
   "execution_count": 18,
   "metadata": {
    "collapsed": false
   },
   "outputs": [
    {
     "name": "stderr",
     "output_type": "stream",
     "text": [
      "/Users/hhhung/anaconda/lib/python3.4/site-packages/matplotlib/collections.py:590: FutureWarning: elementwise comparison failed; returning scalar instead, but in the future will perform elementwise comparison\n",
      "  if self._edgecolors == str('face'):\n"
     ]
    },
    {
     "data": {
      "image/png": "[encoded data removed]",
      "text/plain": [
       "<matplotlib.figure.Figure at 0x1140270f0>"
      ]
     },
     "metadata": {},
     "output_type": "display_data"
    }
   ],
   "source": [
    "y = beers.loc[:, 'average_rating'].tolist()\n",
    "\n",
    "fig, ax = plt.subplots(figsize = (6,4))\n",
    "\n",
    "s = ax.scatter(x1, x2, c = y, s=70, marker=(5, 0), cmap=plt.cm.cool, linewidths=0, alpha=0.7)\n",
    "plt.colorbar(mappable=s, ax=ax)\n",
    "ax.set_xlabel('principal-1', size=20)\n",
    "ax.set_ylabel('principal-2', size=20)\n",
    "ax.set_title('PCA (colors as ratings)', size=20)\n",
    "plt.show()"
   ]
  },
  {
   "cell_type": "code",
   "execution_count": null,
   "metadata": {
    "collapsed": true
   },
   "outputs": [],
   "source": []
  },
  {
   "cell_type": "code",
   "execution_count": null,
   "metadata": {
    "collapsed": true
   },
   "outputs": [],
   "source": []
  },
  {
   "cell_type": "markdown",
   "metadata": {},
   "source": [
    "### **Visualize similarity if using beer-10 as reference**\n",
    "\n",
    " Beer-10 is the fifth element of the **x1** and **x2** vectors."
   ]
  },
  {
   "cell_type": "code",
   "execution_count": 42,
   "metadata": {
    "collapsed": false
   },
   "outputs": [
    {
     "name": "stdout",
     "output_type": "stream",
     "text": [
      "-542.1324669987421 0.577206536360352\n"
     ]
    }
   ],
   "source": [
    "print (x1[5], x2[5])"
   ]
  },
  {
   "cell_type": "code",
   "execution_count": 43,
   "metadata": {
    "collapsed": false
   },
   "outputs": [
    {
     "data": {
      "text/plain": [
       "(2973,\n",
       " [(10, -4.4408920985006262e-16),\n",
       "  (5, 0.024997502274571426),\n",
       "  (112, 0.026614350773239481),\n",
       "  (7, 0.026966197461723018),\n",
       "  (6, 0.031542020344071275)])"
      ]
     },
     "execution_count": 43,
     "metadata": {},
     "output_type": "execute_result"
    }
   ],
   "source": [
    "len(cosineSim[10]), cosineSim[10][:5]"
   ]
  },
  {
   "cell_type": "code",
   "execution_count": 44,
   "metadata": {
    "collapsed": false
   },
   "outputs": [
    {
     "name": "stdout",
     "output_type": "stream",
     "text": [
      "[(5, 0.024997502274571426), (6, 0.031542020344071275), (7, 0.026966197461723018), (8, 0.04357060485980857), (9, 0.035032634412866859), (10, -4.4408920985006262e-16), (11, 0.031602143182132503), (12, 0.28041409584315202), (13, 0.42233442563014534), (14, 0.080177421934989113)]\n"
     ]
    }
   ],
   "source": [
    "similarity_beer10 = cosineSim[10]\n",
    "similarity_beer10.sort(key=lambda tup: tup[0])\n",
    "print (similarity_beer10[:10])"
   ]
  },
  {
   "cell_type": "code",
   "execution_count": 45,
   "metadata": {
    "collapsed": false
   },
   "outputs": [
    {
     "data": {
      "image/png": "[encoded data removed]",
      "text/plain": [
       "<matplotlib.figure.Figure at 0x140aaed68>"
      ]
     },
     "metadata": {},
     "output_type": "display_data"
    }
   ],
   "source": [
    "y = [x[1] for x in similarity_beer10]\n",
    "\n",
    "fig, ax = plt.subplots(figsize = (6,4))\n",
    "\n",
    "s = ax.scatter(x1, x2, c = y, s=70, marker=(5, 0), cmap=plt.cm.cool, linewidths=0, alpha=0.7)\n",
    "plt.colorbar(mappable=s, ax=ax)\n",
    "ax.set_xlabel('principal-1', size=20)\n",
    "ax.set_ylabel('principal-2', size=20)\n",
    "ax.set_title('PCA (colors as similarity)', size=20)\n",
    "plt.show()"
   ]
  },
  {
   "cell_type": "markdown",
   "metadata": {},
   "source": [
    "### **Visualize if using beer-116 as reference**"
   ]
  },
  {
   "cell_type": "code",
   "execution_count": 46,
   "metadata": {
    "collapsed": false
   },
   "outputs": [
    {
     "name": "stdout",
     "output_type": "stream",
     "text": [
      "-0.14096420015793576 0.7755331222193884\n"
     ]
    }
   ],
   "source": [
    "print (x1[100], x2[100])"
   ]
  },
  {
   "cell_type": "code",
   "execution_count": 47,
   "metadata": {
    "collapsed": false
   },
   "outputs": [],
   "source": [
    "similarity_beer116 = cosineSim[116]\n",
    "similarity_beer116.sort(key=lambda tup: tup[0])"
   ]
  },
  {
   "cell_type": "code",
   "execution_count": 48,
   "metadata": {
    "collapsed": false
   },
   "outputs": [
    {
     "data": {
      "image/png": "[encoded data removed]",
      "text/plain": [
       "<matplotlib.figure.Figure at 0x140b83550>"
      ]
     },
     "metadata": {},
     "output_type": "display_data"
    }
   ],
   "source": [
    "y = [x[1] for x in similarity_beer116]\n",
    "\n",
    "fig, ax = plt.subplots(figsize = (6,4))\n",
    "\n",
    "s = ax.scatter(x1, x2, c = y, s=70, marker=(5, 0), cmap=plt.cm.cool, linewidths=0, alpha=0.7)\n",
    "plt.colorbar(mappable=s, ax=ax)\n",
    "ax.set_xlabel('principal-1', size=20)\n",
    "ax.set_ylabel('principal-2', size=20)\n",
    "ax.set_title('PCA (colors as similarity)', size=20)\n",
    "plt.show()"
   ]
  },
  {
   "cell_type": "markdown",
   "metadata": {},
   "source": [
    "## ** E. User-Item Recommendation using Models**\n",
    "\n",
    "Recall that we have a rating data:"
   ]
  },
  {
   "cell_type": "code",
   "execution_count": 763,
   "metadata": {
    "collapsed": false
   },
   "outputs": [
    {
     "data": {
      "text/html": [
       "<div>\n",
       "<table border=\"1\" class=\"dataframe\">\n",
       "  <thead>\n",
       "    <tr style=\"text-align: right;\">\n",
       "      <th></th>\n",
       "      <th>score</th>\n",
       "      <th>user_id</th>\n",
       "      <th>beer_id</th>\n",
       "    </tr>\n",
       "  </thead>\n",
       "  <tbody>\n",
       "    <tr>\n",
       "      <th>0</th>\n",
       "      <td>4</td>\n",
       "      <td>7</td>\n",
       "      <td>6</td>\n",
       "    </tr>\n",
       "    <tr>\n",
       "      <th>1</th>\n",
       "      <td>4</td>\n",
       "      <td>48</td>\n",
       "      <td>7</td>\n",
       "    </tr>\n",
       "    <tr>\n",
       "      <th>2</th>\n",
       "      <td>4</td>\n",
       "      <td>47</td>\n",
       "      <td>9</td>\n",
       "    </tr>\n",
       "    <tr>\n",
       "      <th>3</th>\n",
       "      <td>4</td>\n",
       "      <td>47</td>\n",
       "      <td>10</td>\n",
       "    </tr>\n",
       "    <tr>\n",
       "      <th>4</th>\n",
       "      <td>4</td>\n",
       "      <td>50</td>\n",
       "      <td>9</td>\n",
       "    </tr>\n",
       "  </tbody>\n",
       "</table>\n",
       "</div>"
      ],
      "text/plain": [
       "   score  user_id  beer_id\n",
       "0      4        7        6\n",
       "1      4       48        7\n",
       "2      4       47        9\n",
       "3      4       47       10\n",
       "4      4       50        9"
      ]
     },
     "execution_count": 763,
     "metadata": {},
     "output_type": "execute_result"
    }
   ],
   "source": [
    "ratings.head()"
   ]
  },
  {
   "cell_type": "code",
   "execution_count": 764,
   "metadata": {
    "collapsed": false
   },
   "outputs": [
    {
     "data": {
      "text/plain": [
       "(9800, 3)"
      ]
     },
     "execution_count": 764,
     "metadata": {},
     "output_type": "execute_result"
    }
   ],
   "source": [
    "ratings.shape"
   ]
  },
  {
   "cell_type": "markdown",
   "metadata": {},
   "source": [
    "### **User rating records**"
   ]
  },
  {
   "cell_type": "markdown",
   "metadata": {},
   "source": [
    "The content-based model is essentially to set up each user as an individual machine learning problem. Different users have different tastes on beers, so they will have different preferences. In the following, we create the **users_beers_ratings** dictionary to store each users' rating history."
   ]
  },
  {
   "cell_type": "code",
   "execution_count": 49,
   "metadata": {
    "collapsed": false
   },
   "outputs": [],
   "source": [
    "def users_ratings():\n",
    "    '''This function is used tp prepare users' rating history\n",
    "       return:\n",
    "            user_beers_ratings[user] = [beer1:r1,beer2:r2, beer3:r3,...]\n",
    "    ''' \n",
    "    users_beers_ratings = {}\n",
    "    for line in ratings.values:\n",
    "        line = tuple(line)\n",
    "        user_id = int(line[1])\n",
    "        beer_id = int(line[2])\n",
    "        score = line[0]\n",
    "        if user_id not in users_beers_ratings:\n",
    "            #users_beers_ratings[user_id] = [(beer_id, float(score))]\n",
    "            users_beers_ratings[user_id] = {beer_id:float(score)}\n",
    "        else:\n",
    "            #users_beers_ratings[user_id].append((beer_id, float(score)))\n",
    "            users_beers_ratings[user_id][beer_id] = float(score)\n",
    "            \n",
    "    return users_beers_ratings     \n",
    "\n",
    "users_beers_ratings = users_ratings()"
   ]
  },
  {
   "cell_type": "markdown",
   "metadata": {},
   "source": [
    "For example, for **user-id =47** user, he/she has rated the beers:"
   ]
  },
  {
   "cell_type": "code",
   "execution_count": 50,
   "metadata": {
    "collapsed": false
   },
   "outputs": [
    {
     "data": {
      "text/plain": [
       "{7: 5.0, 9: 4.0, 10: 4.0, 11: 5.0, 94: 5.0, 152: 5.0, 202: 4.0}"
      ]
     },
     "execution_count": 50,
     "metadata": {},
     "output_type": "execute_result"
    }
   ],
   "source": [
    "users_beers_ratings[47]"
   ]
  },
  {
   "cell_type": "markdown",
   "metadata": {},
   "source": [
    "How many consumers have used the BeHoppy to rate beers?"
   ]
  },
  {
   "cell_type": "code",
   "execution_count": 52,
   "metadata": {
    "collapsed": false
   },
   "outputs": [
    {
     "name": "stdout",
     "output_type": "stream",
     "text": [
      "The number of users rated = 3260\n"
     ]
    }
   ],
   "source": [
    "print ('The number of users rated =', len(users_beers_ratings))"
   ]
  },
  {
   "cell_type": "markdown",
   "metadata": {},
   "source": [
    "Who has rated most beers in the BeHoppy?"
   ]
  },
  {
   "cell_type": "code",
   "execution_count": 54,
   "metadata": {
    "collapsed": false
   },
   "outputs": [
    {
     "name": "stdout",
     "output_type": "stream",
     "text": [
      "3494 630\n"
     ]
    }
   ],
   "source": [
    "max_ratings = -1\n",
    "max_user = None\n",
    "for user in users_beers_ratings:\n",
    "    if len(users_beers_ratings[user]) > max_ratings:\n",
    "        max_ratings = len(users_beers_ratings[user])\n",
    "        max_user = user\n",
    "print (max_user, max_ratings)"
   ]
  },
  {
   "cell_type": "code",
   "execution_count": 55,
   "metadata": {
    "collapsed": false
   },
   "outputs": [
    {
     "data": {
      "text/html": [
       "<div>\n",
       "<table border=\"1\" class=\"dataframe\">\n",
       "  <thead>\n",
       "    <tr style=\"text-align: right;\">\n",
       "      <th></th>\n",
       "      <th>id</th>\n",
       "      <th>first_name</th>\n",
       "      <th>last_name</th>\n",
       "      <th>email</th>\n",
       "    </tr>\n",
       "  </thead>\n",
       "  <tbody>\n",
       "    <tr>\n",
       "      <th>3441</th>\n",
       "      <td>3494</td>\n",
       "      <td>Carla</td>\n",
       "      <td>Daniele</td>\n",
       "      <td>caahniele@yahoo.com.br</td>\n",
       "    </tr>\n",
       "  </tbody>\n",
       "</table>\n",
       "</div>"
      ],
      "text/plain": [
       "        id first_name last_name                   email\n",
       "3441  3494      Carla   Daniele  caahniele@yahoo.com.br"
      ]
     },
     "execution_count": 55,
     "metadata": {},
     "output_type": "execute_result"
    }
   ],
   "source": [
    "users[users.id == max_user]"
   ]
  },
  {
   "cell_type": "markdown",
   "metadata": {},
   "source": [
    "The consumer Carla (user-id=3494) has rated beers including:"
   ]
  },
  {
   "cell_type": "code",
   "execution_count": 57,
   "metadata": {
    "collapsed": false
   },
   "outputs": [
    {
     "name": "stdout",
     "output_type": "stream",
     "text": [
      "beer: 171 rating: 1.0\n",
      "beer: 5 rating: 1.0\n",
      "beer: 6 rating: 4.0\n",
      "beer: 7 rating: 3.0\n",
      "beer: 8 rating: 1.0\n",
      "beer: 9 rating: 1.0\n",
      "beer: 10 rating: 5.0\n",
      "beer: 6155 rating: 3.0\n",
      "beer: 12 rating: 4.0\n",
      "beer: 13 rating: 4.0\n"
     ]
    }
   ],
   "source": [
    "irow =0 \n",
    "for beer in users_beers_ratings[max_user]:\n",
    "    if irow < 10: print ('beer:', beer, 'rating:',users_beers_ratings[max_user][beer])\n",
    "    irow += 1"
   ]
  },
  {
   "cell_type": "markdown",
   "metadata": {},
   "source": [
    "## **(A) Logistic Regression**"
   ]
  },
  {
   "cell_type": "code",
   "execution_count": 58,
   "metadata": {
    "collapsed": true
   },
   "outputs": [],
   "source": [
    "from sklearn.cross_validation import cross_val_score, train_test_split\n",
    "from sklearn.tree import DecisionTreeClassifier\n",
    "from sklearn import linear_model\n",
    "from sklearn import grid_search"
   ]
  },
  {
   "cell_type": "code",
   "execution_count": 60,
   "metadata": {
    "collapsed": false
   },
   "outputs": [],
   "source": [
    "def decision_tree(X_train, y_train, X_test, y_test):\n",
    "    '''http://scikit-learn.org/stable/modules/generated/sklearn.tree.DecisionTreeClassifier.html'''\n",
    "    print ('doing machine learning: tree')\n",
    "    clf = DecisionTreeClassifier(random_state=0)\n",
    "    cv_error = cross_val_score(clf, X_train, y_train, cv=5)\n",
    "    print (cv_error, np.mean(cv_error))\n",
    "    clf.fit(X_train, y_train)\n",
    "    print (clf.predict(X_test))\n",
    "    #print clf.predict_proba(X_test)[:,1]\n",
    "    print (y_test, clf.score(X_test, y_test))"
   ]
  },
  {
   "cell_type": "code",
   "execution_count": 106,
   "metadata": {
    "collapsed": false
   },
   "outputs": [],
   "source": [
    "def logistic_regression(X_train, y_train, X_test, y_test, accuracy):\n",
    "    #print 'doing machine learning: logistic regression'\n",
    "    '''logistic regression \n",
    "    http://scikit-learn.org/stable/modules/generated/sklearn.linear_model.LogisticRegression.html#sklearn.linear_model.LogisticRegression.get_params'''\n",
    "    \n",
    "    if len(y_train) - sum(y_train) < 5 or sum(y_train) == 5:\n",
    "        '''This is used to guarantee the number of y=0 or y=1 should be more than 5.\n",
    "           Otherwise sklearn is not able to build models.\n",
    "        '''\n",
    "        print ('NOT able to do classification, no enough y=0 or y=1')\n",
    "        print (sum(y_train), len(y_train))\n",
    "        return\n",
    "        \n",
    "    best_model = None\n",
    "    min_error = 10000\n",
    "    for regularization_param in [0.0001, 0.01, 0.1,1,10,100,1000, 10000, 100000]:\n",
    "        logreg = linear_model.LogisticRegression('l2', C=regularization_param)\n",
    "        cv_error = cross_val_score(logreg, X_train, y_train, cv=5)\n",
    "        if np.mean(cv_error) < min_error:\n",
    "            min_error = np.mean(cv_error)\n",
    "            best_model = logreg\n",
    "\n",
    "    #print best_model.predict(X_test)\n",
    "    best_model.fit(X_train, y_train)\n",
    "    print (len(y_test), best_model.score(X_test, y_test))\n",
    "    #print len(best_model.coef_[0])\n",
    "    \n",
    "    accuracy[0] += len(y_test)*best_model.score(X_test, y_test)\n",
    "    accuracy[1] += len(y_test)\n",
    "    \n",
    "    return best_model"
   ]
  },
  {
   "cell_type": "code",
   "execution_count": 96,
   "metadata": {
    "collapsed": true
   },
   "outputs": [],
   "source": [
    "preference = {1:0, 2:0, 3:0, 4:1, 5:1}"
   ]
  },
  {
   "cell_type": "markdown",
   "metadata": {},
   "source": [
    "### **Performance of clasification if 100 observations**"
   ]
  },
  {
   "cell_type": "code",
   "execution_count": 80,
   "metadata": {
    "collapsed": false
   },
   "outputs": [
    {
     "name": "stdout",
     "output_type": "stream",
     "text": [
      "user= 112 , n_data= 103\n",
      "34 0.735294117647\n",
      "-------------------------------------\n",
      "user= 9177 , n_data= 125\n",
      "42 0.952380952381\n",
      "-------------------------------------\n",
      "user= 1440 , n_data= 164\n",
      "55 0.636363636364\n",
      "-------------------------------------\n",
      "user= 9834 , n_data= 164\n",
      "55 0.654545454545\n",
      "-------------------------------------\n",
      "user= 2600 , n_data= 118\n",
      "39 0.769230769231\n",
      "-------------------------------------\n",
      "user= 8546 , n_data= 128\n",
      "43 0.674418604651\n",
      "-------------------------------------\n",
      "user= 10070 , n_data= 370\n",
      "123 0.739837398374\n",
      "-------------------------------------\n",
      "user= 3494 , n_data= 630\n",
      "208 0.610576923077\n",
      "-------------------------------------\n",
      "user= 3510 , n_data= 120\n",
      "40 0.775\n",
      "-------------------------------------\n",
      "user= 3556 , n_data= 134\n",
      "45 0.577777777778\n",
      "-------------------------------------\n",
      "user= 4328 , n_data= 115\n",
      "38 0.763157894737\n",
      "-------------------------------------\n",
      "user= 4632 , n_data= 469\n",
      "155 0.61935483871\n",
      "-------------------------------------\n",
      "user= 4718 , n_data= 158\n",
      "53 0.660377358491\n",
      "-------------------------------------\n",
      "user= 4769 , n_data= 187\n",
      "62 0.612903225806\n",
      "-------------------------------------\n",
      "user= 5144 , n_data= 129\n",
      "43 0.837209302326\n",
      "-------------------------------------\n",
      "user= 5159 , n_data= 201\n",
      "67 0.776119402985\n",
      "-------------------------------------\n",
      "user= 5255 , n_data= 171\n",
      "57 0.80701754386\n",
      "-------------------------------------\n",
      "user= 5279 , n_data= 200\n",
      "66 0.727272727273\n",
      "-------------------------------------\n",
      "user= 5389 , n_data= 148\n",
      "49 0.734693877551\n",
      "-------------------------------------\n",
      "user= 5608 , n_data= 557\n",
      "184 0.521739130435\n",
      "-------------------------------------\n",
      "user= 6288 , n_data= 171\n",
      "57 0.631578947368\n",
      "-------------------------------------\n",
      "user= 6578 , n_data= 126\n",
      "42 0.714285714286\n",
      "-------------------------------------\n",
      "user= 6596 , n_data= 249\n",
      "83 0.722891566265\n",
      "-------------------------------------\n",
      "user= 6942 , n_data= 176\n",
      "59 0.932203389831\n",
      "-------------------------------------\n",
      "user= 7185 , n_data= 106\n",
      "35 0.8\n",
      "-------------------------------------\n",
      "user= 7355 , n_data= 131\n",
      "44 0.636363636364\n",
      "-------------------------------------\n",
      "user= 7487 , n_data= 179\n",
      "60 0.65\n",
      "-------------------------------------\n",
      "user= 7826 , n_data= 174\n",
      "58 0.706896551724\n",
      "-------------------------------------\n",
      "0.685126582278\n"
     ]
    }
   ],
   "source": [
    "accuracy = [0]*2\n",
    "users_models = {}\n",
    "for user in users_beers_ratings:\n",
    "    #print (user, len(users_beers_ratings[user]))\n",
    "    #continue\n",
    "    if  len(users_beers_ratings[user]) > 100:\n",
    "        X = []\n",
    "        y = []\n",
    "        for beer in users_beers_ratings[user]:\n",
    "            #print beer, rating, type(rating)\n",
    "            rating = users_beers_ratings[user][beer]\n",
    "            X.append(vectorSpace[beer])\n",
    "            y.append(preference[rating])\n",
    "        X = np.asarray(X)\n",
    "        y = np.asarray(y)\n",
    "        print ('user=', user, ', n_data=', len(y))\n",
    "        \n",
    "        X_train, X_test, y_train, y_test = train_test_split(X, y, test_size=0.33)\n",
    "        \n",
    "        #decision_tree(X_train, y_train, X_test, y_test)\n",
    "        model = logistic_regression(X_train, y_train, X_test, y_test, accuracy)\n",
    "        \n",
    "        users_models[user] = model\n",
    "        print ('-------------------------------------')\n",
    "\n",
    "print (accuracy[0]/accuracy[1])"
   ]
  },
  {
   "cell_type": "markdown",
   "metadata": {},
   "source": [
    "### **Visualize similarity vs ratings**"
   ]
  },
  {
   "cell_type": "code",
   "execution_count": 71,
   "metadata": {
    "collapsed": true
   },
   "outputs": [],
   "source": [
    "def rating_vs_sim(x1, x2):\n",
    "    fig, ax = plt.subplots(figsize = (6,4))\n",
    "    s = ax.scatter(x2, x1, s=70, marker=(5, 0), cmap=plt.cm.cool, linewidths=0, alpha=0.7)\n",
    "    ax.set_xlabel('sim(user, beer)', size=20)\n",
    "    ax.set_ylabel('rating(user, beer)', size=20)\n",
    "    ax.set_title('relation between user and beers', size=20)\n",
    "    plt.show()"
   ]
  },
  {
   "cell_type": "markdown",
   "metadata": {},
   "source": [
    "### **More observations, better performance**"
   ]
  },
  {
   "cell_type": "code",
   "execution_count": 81,
   "metadata": {
    "collapsed": false
   },
   "outputs": [],
   "source": [
    "user_preference = users_models[3494].coef_[0]"
   ]
  },
  {
   "cell_type": "code",
   "execution_count": 82,
   "metadata": {
    "collapsed": false
   },
   "outputs": [
    {
     "name": "stdout",
     "output_type": "stream",
     "text": [
      "6 4.0 1.99789489331\n",
      "10 5.0 1.9987462047\n",
      "12 4.0 1.99597839338\n",
      "13 4.0 1.99893801048\n",
      "5144 5.0 1.99122513427\n",
      "28 4.0 1.99274157796\n",
      "9050 4.0 1.99962198176\n",
      "9221 5.0 2.00082091913\n",
      "32 4.0 1.99772532114\n",
      "34 4.0 1.99662473663\n",
      "35 5.0 1.99768574191\n",
      "3078 5.0 1.99127323512\n",
      "38 4.0 1.99722453886\n",
      "39 5.0 1.99258040349\n",
      "9256 5.0 1.99378960113\n"
     ]
    }
   ],
   "source": [
    "x1 = []\n",
    "x2 = []\n",
    "irow =0\n",
    "for beer in users_beers_ratings[3494]:\n",
    "    rating = users_beers_ratings[3494][beer]\n",
    "    #if rating > 3.0: print beer, rating, cosine(vectorSpace[beer].T, user_preference)\n",
    "    x1.append(rating)\n",
    "    x2.append(cosine(vectorSpace[beer].T, user_preference))\n",
    "    irow += 1\n",
    "    if rating > 3.0 and irow <30: print (beer, rating, cosine(vectorSpace[beer].T, user_preference))"
   ]
  },
  {
   "cell_type": "code",
   "execution_count": 83,
   "metadata": {
    "collapsed": false
   },
   "outputs": [
    {
     "name": "stdout",
     "output_type": "stream",
     "text": [
      "171 1.0 2.01047963878\n",
      "5 1.0 1.99960066801\n",
      "7 3.0 1.999750986\n",
      "8 1.0 2.00011263287\n",
      "9 1.0 2.00012633561\n",
      "6155 3.0 1.996983802\n",
      "14 2.0 1.99977568581\n",
      "15 3.0 1.99981482676\n",
      "16 3.0 1.99806674303\n",
      "17 2.0 2.00131066449\n",
      "22 1.0 2.00650777114\n",
      "25 2.0 2.00348643767\n",
      "27 3.0 1.99805407461\n",
      "5153 3.0 1.99783374042\n"
     ]
    }
   ],
   "source": [
    "irow =0\n",
    "for beer in users_beers_ratings[3494]:\n",
    "    rating = users_beers_ratings[3494][beer]\n",
    "    x1.append(rating)\n",
    "    x2.append(cosine(vectorSpace[beer].T, user_preference))\n",
    "    irow += 1\n",
    "    if rating <= 3.0 and irow <30: print (beer, rating, cosine(vectorSpace[beer].T, user_preference))"
   ]
  },
  {
   "cell_type": "code",
   "execution_count": 84,
   "metadata": {
    "collapsed": false
   },
   "outputs": [
    {
     "data": {
      "image/png": "[encoded data removed]",
      "text/plain": [
       "<matplotlib.figure.Figure at 0x140f39080>"
      ]
     },
     "metadata": {},
     "output_type": "display_data"
    }
   ],
   "source": [
    "rating_vs_sim(x1, x2)"
   ]
  },
  {
   "cell_type": "markdown",
   "metadata": {},
   "source": [
    "### **Less observation, unstable performance: ~ 100 samples**"
   ]
  },
  {
   "cell_type": "code",
   "execution_count": 87,
   "metadata": {
    "collapsed": false
   },
   "outputs": [
    {
     "data": {
      "image/png": "[encoded data removed]",
      "text/plain": [
       "<matplotlib.figure.Figure at 0x1419d1630>"
      ]
     },
     "metadata": {},
     "output_type": "display_data"
    }
   ],
   "source": [
    "user_preference = users_models[10070].coef_[0]\n",
    "x1 = []\n",
    "x2 = []\n",
    "for beer in users_beers_ratings[10070]:\n",
    "    rating = users_beers_ratings[10070][beer]\n",
    "    x1.append(rating)\n",
    "    x2.append(cosine(vectorSpace[beer].T, user_preference))\n",
    "    \n",
    "rating_vs_sim(x1, x2)    "
   ]
  },
  {
   "cell_type": "code",
   "execution_count": 88,
   "metadata": {
    "collapsed": false
   },
   "outputs": [
    {
     "data": {
      "image/png": "[encoded data removed]",
      "text/plain": [
       "<matplotlib.figure.Figure at 0x13e6999b0>"
      ]
     },
     "metadata": {},
     "output_type": "display_data"
    }
   ],
   "source": [
    "user_preference = users_models[5608].coef_[0]\n",
    "x1 = []\n",
    "x2 = []\n",
    "for beer in users_beers_ratings[5608]:\n",
    "    rating = users_beers_ratings[5608][beer]\n",
    "    x1.append(rating)\n",
    "    x2.append(cosine(vectorSpace[beer].T, user_preference))\n",
    "    \n",
    "rating_vs_sim(x1, x2)"
   ]
  },
  {
   "cell_type": "markdown",
   "metadata": {},
   "source": [
    "### **Worse performance of clasification if only allowing 50 observations**"
   ]
  },
  {
   "cell_type": "code",
   "execution_count": 107,
   "metadata": {
    "collapsed": false
   },
   "outputs": [
    {
     "name": "stdout",
     "output_type": "stream",
     "text": [
      "user= 8228 66\n",
      "22 0.5\n",
      "-------------------------------------\n",
      "user= 55 86\n",
      "29 0.793103448276\n",
      "-------------------------------------\n",
      "user= 8340 68\n",
      "23 0.521739130435\n",
      "-------------------------------------\n",
      "user= 292 95\n",
      "32 0.6875\n",
      "-------------------------------------\n",
      "user= 8882 59\n",
      "20 0.7\n",
      "-------------------------------------\n",
      "user= 8903 77\n",
      "26 0.846153846154\n",
      "-------------------------------------\n",
      "user= 9809 87\n",
      "29 0.655172413793\n",
      "-------------------------------------\n",
      "user= 1769 59\n",
      "20 0.8\n",
      "-------------------------------------\n",
      "user= 9982 64\n",
      "22 0.5\n",
      "-------------------------------------\n",
      "user= 10046 52\n",
      "18 0.555555555556\n",
      "-------------------------------------\n",
      "user= 1987 53\n",
      "18 0.611111111111\n",
      "-------------------------------------\n",
      "user= 2369 64\n",
      "22 0.863636363636\n",
      "-------------------------------------\n",
      "user= 2559 58\n",
      "NOT able to do classification, no enough y=0 or y=1\n",
      "34 38\n",
      "-------------------------------------\n",
      "user= 2754 51\n",
      "17 0.117647058824\n",
      "-------------------------------------\n",
      "user= 2877 62\n",
      "21 0.666666666667\n",
      "-------------------------------------\n",
      "user= 3066 51\n",
      "17 0.705882352941\n",
      "-------------------------------------\n",
      "user= 3149 63\n",
      "21 0.761904761905\n",
      "-------------------------------------\n",
      "user= 3757 64\n",
      "22 0.727272727273\n",
      "-------------------------------------\n",
      "user= 3933 90\n",
      "30 0.566666666667\n",
      "-------------------------------------\n",
      "user= 4048 59\n",
      "20 0.6\n",
      "-------------------------------------\n",
      "user= 4444 77\n",
      "26 0.807692307692\n",
      "-------------------------------------\n",
      "user= 4689 53\n",
      "18 0.611111111111\n",
      "-------------------------------------\n",
      "user= 4786 63\n",
      "21 0.857142857143\n",
      "-------------------------------------\n",
      "user= 4808 57\n",
      "19 0.842105263158\n",
      "-------------------------------------\n",
      "user= 4823 84\n",
      "28 0.607142857143\n",
      "-------------------------------------\n",
      "user= 4869 65\n",
      "22 0.727272727273\n",
      "-------------------------------------\n",
      "user= 4918 53\n",
      "18 0.555555555556\n",
      "-------------------------------------\n",
      "user= 4935 71\n",
      "24 0.458333333333\n",
      "-------------------------------------\n",
      "user= 5192 53\n",
      "18 0.555555555556\n",
      "-------------------------------------\n",
      "user= 5261 90\n",
      "30 0.566666666667\n",
      "-------------------------------------\n",
      "user= 5347 71\n",
      "24 0.541666666667\n",
      "-------------------------------------\n",
      "user= 5359 89\n",
      "30 0.666666666667\n",
      "-------------------------------------\n",
      "user= 5371 51\n",
      "17 0.647058823529\n",
      "-------------------------------------\n",
      "user= 5421 55\n",
      "19 0.473684210526\n",
      "-------------------------------------\n",
      "user= 5575 69\n",
      "23 0.565217391304\n",
      "-------------------------------------\n",
      "user= 5776 58\n",
      "20 0.85\n",
      "-------------------------------------\n",
      "user= 5817 96\n",
      "32 0.53125\n",
      "-------------------------------------\n",
      "user= 5824 59\n",
      "20 0.6\n",
      "-------------------------------------\n",
      "user= 5953 92\n",
      "31 0.612903225806\n",
      "-------------------------------------\n",
      "user= 5976 73\n",
      "25 0.6\n",
      "-------------------------------------\n",
      "user= 5999 89\n",
      "30 0.466666666667\n",
      "-------------------------------------\n",
      "user= 6029 81\n",
      "27 0.518518518519\n",
      "-------------------------------------\n",
      "user= 6157 72\n",
      "24 0.625\n",
      "-------------------------------------\n",
      "user= 6326 61\n",
      "21 0.52380952381\n",
      "-------------------------------------\n",
      "user= 6456 94\n",
      "32 0.71875\n",
      "-------------------------------------\n",
      "user= 6566 54\n",
      "18 0.833333333333\n",
      "-------------------------------------\n",
      "user= 6598 62\n",
      "21 0.714285714286\n",
      "-------------------------------------\n",
      "user= 6651 69\n",
      "23 0.565217391304\n",
      "-------------------------------------\n",
      "user= 6657 53\n",
      "18 0.722222222222\n",
      "-------------------------------------\n",
      "user= 6660 59\n",
      "20 0.6\n",
      "-------------------------------------\n",
      "user= 6681 89\n",
      "30 0.766666666667\n",
      "-------------------------------------\n",
      "user= 6682 53\n",
      "18 0.777777777778\n",
      "-------------------------------------\n",
      "user= 6685 79\n",
      "27 0.444444444444\n",
      "-------------------------------------\n",
      "user= 6686 51\n",
      "17 0.647058823529\n",
      "-------------------------------------\n",
      "user= 7229 60\n",
      "20 0.7\n",
      "-------------------------------------\n",
      "user= 7526 71\n",
      "NOT able to do classification, no enough y=0 or y=1\n",
      "44 47\n",
      "-------------------------------------\n",
      "user= 7606 67\n",
      "23 0.608695652174\n",
      "-------------------------------------\n",
      "user= 7660 61\n",
      "21 0.238095238095\n",
      "-------------------------------------\n",
      "user= 7842 67\n",
      "23 0.565217391304\n",
      "-------------------------------------\n",
      "user= 7928 69\n",
      "23 0.782608695652\n",
      "-------------------------------------\n",
      "user= 7946 59\n",
      "20 0.9\n",
      "-------------------------------------\n",
      "user= 8019 59\n",
      "20 0.7\n",
      "-------------------------------------\n",
      "user= 8038 55\n",
      "NOT able to do classification, no enough y=0 or y=1\n",
      "34 36\n",
      "-------------------------------------\n",
      "user= 8080 74\n",
      "25 0.72\n",
      "-------------------------------------\n",
      "user= 8181 81\n",
      "27 0.851851851852\n",
      "-------------------------------------\n",
      "0.642756680731\n"
     ]
    }
   ],
   "source": [
    "users_models = {}\n",
    "\n",
    "accuracy = [0,0]\n",
    "\n",
    "for user in users_beers_ratings:\n",
    "    if  100> len(users_beers_ratings[user])> 50:\n",
    "        X = []\n",
    "        y = []\n",
    "        for beer in users_beers_ratings[user]:\n",
    "            #print beer, rating, type(rating)\n",
    "            rating = users_beers_ratings[user][beer]\n",
    "            X.append(vectorSpace[beer])\n",
    "            y.append(preference[rating])  ## preference convert rating >3 to y=1, rating <=3 to y=0\n",
    "        X = np.asarray(X)\n",
    "        y = np.asarray(y)\n",
    "        print ('user=', user, len(y))\n",
    "        \n",
    "        X_train, X_test, y_train, y_test = train_test_split(X, y, test_size=0.33)\n",
    "        \n",
    "        #decision_tree(X_train, y_train, X_test, y_test)\n",
    "        model = logistic_regression(X_train, y_train, X_test, y_test, accuracy)\n",
    "        \n",
    "        users_models[user] = model\n",
    "        print ('-------------------------------------')\n",
    "\n",
    "print (accuracy[0]/accuracy[1])"
   ]
  },
  {
   "cell_type": "code",
   "execution_count": 707,
   "metadata": {
    "collapsed": false
   },
   "outputs": [
    {
     "data": {
      "image/png": "[encoded data removed]",
      "text/plain": [
       "<matplotlib.figure.Figure at 0x129ce77d0>"
      ]
     },
     "metadata": {},
     "output_type": "display_data"
    }
   ],
   "source": [
    "user_preference = users_models[1769].coef_[0]\n",
    "x1 = []\n",
    "x2 = []\n",
    "for beer in users_beers_ratings[1769]:\n",
    "    rating = users_beers_ratings[1769][beer]\n",
    "    x1.append(rating)\n",
    "    x2.append(cosine(vectorSpace[beer].T, user_preference))\n",
    "    #print beer, rating, cosine(vectorSpace[beer].T, user_preference)\n",
    "    \n",
    "rating_vs_sim(x1, x2)"
   ]
  },
  {
   "cell_type": "code",
   "execution_count": 705,
   "metadata": {
    "collapsed": false
   },
   "outputs": [
    {
     "data": {
      "image/png": "[encoded data removed]",
      "text/plain": [
       "<matplotlib.figure.Figure at 0x12b7ef550>"
      ]
     },
     "metadata": {},
     "output_type": "display_data"
    }
   ],
   "source": [
    "user_preference = users_models[112].coef_[0]\n",
    "x1 = []\n",
    "x2 = []\n",
    "for beer in users_beers_ratings[112]:\n",
    "    rating = users_beers_ratings[112][beer]\n",
    "    x1.append(rating)\n",
    "    x2.append(cosine(vectorSpace[beer].T, user_preference))\n",
    "    \n",
    "rating_vs_sim(x1, x2)"
   ]
  },
  {
   "cell_type": "code",
   "execution_count": 706,
   "metadata": {
    "collapsed": false
   },
   "outputs": [
    {
     "data": {
      "image/png": "[encoded data removed]",
      "text/plain": [
       "<matplotlib.figure.Figure at 0x128c0c950>"
      ]
     },
     "metadata": {},
     "output_type": "display_data"
    }
   ],
   "source": [
    "user_preference = users_models[2754].coef_[0]\n",
    "x1 = []\n",
    "x2 = []\n",
    "for beer in users_beers_ratings[2754]:\n",
    "    rating = users_beers_ratings[2754][beer]\n",
    "    x1.append(rating)\n",
    "    x2.append(cosine(vectorSpace[beer].T, user_preference))\n",
    "    \n",
    "rating_vs_sim(x1, x2)"
   ]
  },
  {
   "cell_type": "markdown",
   "metadata": {},
   "source": [
    "### The logistic regression models suffer the problem where data amount is not enough. The second approach is to consider the neighborhood model, to predict beers' ratings for a given user."
   ]
  },
  {
   "cell_type": "markdown",
   "metadata": {},
   "source": [
    "## **(B) Neighborhood model**\n",
    "\n",
    "In the neighborhoold, rather than building a predictive model (logistic regression), we used users' historial ratings to predict an item's predicted rating given by the user. The way is\n",
    "\n",
    "$$\\hat{R}_{ui} = \\frac{\\sum_{j\\in S^u} w_{ij}R_{uj}}{\\sum_{j \\in S^u} \\lvert w_{ij}\\lvert}.$$\n",
    "\n",
    "The $S^u$ denotes a set of the beers the user $u$ rated; the corresponding ratings are $\\lbrace R_{u1}, R_{u2},\\cdots\\rbrace$. $w_{ij}$ is the weight between **beer-i** and **beer-j** which is defined as $w_{ij} = 1-s_{ij}/2$, where $s_{ij}$ is the similarity score. The physical meaning of the neighborhood model is that if **beer-j** is farther away from **beer-i** ($s_{ij}$ is larger); they are less similar, then the rating of **beer-j** has less contribution ($w_{ij}$ is smaller) to predicting **beer-i** rating. Cusomers always like items which are similar each other."
   ]
  },
  {
   "cell_type": "code",
   "execution_count": 94,
   "metadata": {
    "collapsed": false
   },
   "outputs": [
    {
     "name": "stdout",
     "output_type": "stream",
     "text": [
      "mean absolute error = 0.681404558854\n"
     ]
    }
   ],
   "source": [
    "def neighborhood(k_neighbors=200):\n",
    "    '''Using neighborhood methods to predict the ratings of unrated beers for a given\n",
    "       user. k_neighbors is to control how many neighbors to include for the predictions.\n",
    "       return:\n",
    "          users_pred_beers_ratings[user] = [(beer1, r1), (beer2, r2), (beer3, r3)...]\n",
    "    '''\n",
    "    error = 0.0\n",
    "    repeat_pred = 0\n",
    "    users_pred_beers_ratings = {}\n",
    "\n",
    "    #  ------------ using this query to generate loops is slow -----\n",
    "    #beer_ids = beers[['id']]\n",
    "    #for beer1 in beer_ids.values:\n",
    "    #    beer1 = beer1[0]\n",
    "    #    item1=pd.read_sql_query(\"select beer1, beer2, score \"\n",
    "    #                        \"from similarity where beer1 = \"+str(beer1)+\" limit \"\n",
    "    #                        \" \"+str(k_neighbors)+\";\", local_db)\n",
    "    #    similarity_weight ={}\n",
    "    #    for line in item1.values:\n",
    "    #        beer2 = int(line[1])\n",
    "    #        similarity_weight[beer2] = 1.0 - line[2]/2.0\n",
    "    # ----------------------------------------------------------------\n",
    "    \n",
    "    \n",
    "    for beer1 in cosineSim:\n",
    "\n",
    "        weight ={}\n",
    "        for beer2, similarity in cosineSim[beer1][1:k_neighbors+1]:\n",
    "            weight[beer2] = 1.0 - similarity/2.0\n",
    "\n",
    "        for user in users_beers_ratings:\n",
    "            \n",
    "            beer1_pred_rating =0.0\n",
    "            norm_sim = 0.0\n",
    "            for beer2 in users_beers_ratings[user]:\n",
    "                if beer2 in weight:\n",
    "                    '''Note we will encounter TWO situations where no beer_2 in similarity_weight: \n",
    "                        (1) beer_2 has rating by users, but has not been characterized attributes yet, \n",
    "                            i.e. in \"beers\" table it doesn't exist. So in the similarity table as well as\n",
    "                            similarity_weight, no beer1-beer2 record exists.\n",
    "                        (2) beer2 has been characterized attributes in \"beers\" table, so has beer1-beer2 \n",
    "                            similairty. However, the similarity is not significant such that beer-2 is not \n",
    "                            in the set of k-neighbors.\n",
    "                        In both cases, we will have norm_sim = beer1_pred_rating = 0\n",
    "                    '''\n",
    "                    rating = users_beers_ratings[user][beer2]\n",
    "                    beer1_pred_rating += weight[beer2]*rating\n",
    "                    norm_sim += abs(weight[beer2])\n",
    "                    '''the above procedures are doing sum_j (s_{ij}*r_{uj}) and sum_j |s_{ij}|'''\n",
    "\n",
    "            '''as above, if norm_sim=beer1_pred_rating=0: no predicted rating available'''\n",
    "            if norm_sim == 0 or beer1_pred_rating < 0:\n",
    "                beer1_pred_rating = 0\n",
    "            else:    \n",
    "                beer1_pred_rating = beer1_pred_rating/norm_sim\n",
    "\n",
    "\n",
    "            if beer1_pred_rating >0:\n",
    "                if beer1 not in users_beers_ratings[user]:\n",
    "                    if user not in users_pred_beers_ratings:\n",
    "                        users_pred_beers_ratings[user] = [(beer1, beer1_pred_rating)]\n",
    "                    else:\n",
    "                        users_pred_beers_ratings[user].append((beer1, beer1_pred_rating))\n",
    "                else:\n",
    "                    error += abs(beer1_pred_rating-users_beers_ratings[user][beer1])\n",
    "                    repeat_pred += 1\n",
    "\n",
    "    '''users_pred_beers_ratings[user] = [(beer1, r1), (beer2, r2), (beer3, r3)...]\n",
    "       now, we need to put it in order according to ratings, r1>= r2>=....:\n",
    "    '''\n",
    "    for user in users_pred_beers_ratings:\n",
    "        x = users_pred_beers_ratings[user]\n",
    "        x.sort(key=lambda tup: -tup[1])\n",
    "        users_pred_beers_ratings[user] = x\n",
    "\n",
    "\n",
    "    return error/float(repeat_pred), users_pred_beers_ratings\n",
    "\n",
    "\n",
    "    with local_db:\n",
    "        print ('start loading into usersReco')\n",
    "        cur = local_db.cursor()\n",
    "        cur.execute(\"DELETE FROM usersReco;\")\n",
    "        for user in users_pred_beers_ratings:\n",
    "            for beer, rating in users_pred_beers_ratings[user][:30]:\n",
    "                '''NOTE: doing int(beer), otherwise beer is in \"numpy.int64\" attribute.'''\n",
    "                query = (\"INSERT INTO usersReco \"\n",
    "                           \"(user_id, beer_id, pred_rating) \"\n",
    "                           \"VALUES (%(user_id)s, %(beer_id)s, %(pred_rating)s);\")\n",
    "                query_add = {'user_id': user, 'beer_id': int(beer), 'pred_rating': float(rating)}\n",
    "                cur.execute(query, query_add)\n",
    "        cur.fetchall()\n",
    "        print ('loading usersReco is done')\n",
    "\n",
    "\n",
    "    return error/float(repeat_pred), users_pred_beers_ratings\n",
    "\n",
    "\n",
    "MAE, users_pred_beers_ratings = neighborhood(k_neighbors = 200)\n",
    "print ('mean absolute error =', MAE)"
   ]
  },
  {
   "cell_type": "code",
   "execution_count": null,
   "metadata": {
    "collapsed": true
   },
   "outputs": [],
   "source": []
  }
 ],
 "metadata": {
  "anaconda-cloud": {},
  "kernelspec": {
   "display_name": "Python 3",
   "language": "python",
   "name": "python3"
  },
  "language_info": {
   "codemirror_mode": {
    "name": "ipython",
    "version": 3
   },
   "file_extension": ".py",
   "mimetype": "text/x-python",
   "name": "python",
   "nbconvert_exporter": "python",
   "pygments_lexer": "ipython3",
   "version": "3.4.5"
  }
 },
 "nbformat": 4,
 "nbformat_minor": 0
}
